{
 "cells": [
  {
   "cell_type": "markdown",
   "id": "084b4289-3ba3-4c1f-bef0-712afeb0f74e",
   "metadata": {},
   "source": [
    "                                        PROJECT WORK"
   ]
  },
  {
   "cell_type": "markdown",
   "id": "87bbf759-fc83-4063-bc16-bb06b82a24d7",
   "metadata": {},
   "source": [
    "    TITLE\n",
    "\n",
    "LOAN DEFAULT RISK PREDICTION "
   ]
  },
  {
   "cell_type": "markdown",
   "id": "fd49d4f4-ea62-41a1-abd1-31cd5045c208",
   "metadata": {},
   "source": [
    "        THE CHALLENGE: NAVIGATING LOAN RISK\n",
    "\n",
    "Financial institutions face significant challenges in accurately assessing loan default risk. Traditional methods often fall short in today's \n",
    "complex financial landscape."
   ]
  },
  {
   "cell_type": "markdown",
   "id": "c3b58a29-a448-4e5d-a3fd-45e051c8d228",
   "metadata": {},
   "source": [
    "    PROBLEM STATEMENT\n",
    "Develop a robust machine learning pipeline that accurately predicts loan default risk, enabling better credit decisions and minimizing financial losses."
   ]
  },
  {
   "cell_type": "markdown",
   "id": "b110e35b-d464-492c-a5da-a0d925af7d7c",
   "metadata": {},
   "source": [
    "    OBJECTIVE\n",
    "Utilize customer behavioral and financial data to build a predictive model, enhancing accuracy and efficiency in risk assessment."
   ]
  },
  {
   "cell_type": "markdown",
   "id": "e31d3827-4e47-4be1-ac79-77210edc71e9",
   "metadata": {},
   "source": [
    "    UNDERSTANDING OUR DATA\n",
    "Our analysis relies on a comprehensive datset, simulating real-world loan application scenarios to \n",
    "capture critical indicators of default risk"
   ]
  },
  {
   "cell_type": "markdown",
   "id": "914e6eae-a7a0-4846-822c-30bea2aa40b8",
   "metadata": {},
   "source": [
    "    CATEGORY             FEATURES\n",
    "PERFORMANCE:            Customerid, Systemloanid, Loannumber, Approveddate, Creationdate, Loanamount, Totaldue, Termdays,\n",
    "                        Referredby, Good_bad_flag\n",
    "DEMOGRAPHIC:            Customerid, Birthdate, Bank_account_type, Longitude_gps, Latitude_gps, Bank_name_clients, Bank_branch_clients, \n",
    "                        Employment_status_clients, Level_of_education_clients\n",
    "PREVIOUSLOAN:           Customerid, Systemloanid, Loannumber, Approveddate, Creationdate, Loanamount, Totaldue, Termdays, Closeddate,\n",
    "                        Referredby, Firstduedate, Firstrepaiddate\n",
    "TARGET:                 Loan Default(0: Bad, 1: Good) "
   ]
  },
  {
   "cell_type": "code",
   "execution_count": 8,
   "id": "26f970f0-74cf-40e4-a7d5-79dac43f9c4f",
   "metadata": {},
   "outputs": [],
   "source": [
    "import pandas as pd\n",
    "import numpy as np\n",
    "import matplotlib.pyplot as plt\n",
    "import seaborn as sns \n",
    "import warnings\n",
    "warnings.filterwarnings('ignore') \n",
    "from sklearn.preprocessing import OneHotEncoder, LabelEncoder, StandardScaler\n",
    "from sklearn.linear_model import LogisticRegression\n",
    "from sklearn.model_selection import train_test_split\n",
    "\n",
    "from sklearn.ensemble import RandomForestClassifier, GradientBoostingClassifier\n",
    "from sklearn.tree import DecisionTreeClassifier\n",
    "from sklearn.svm import SVC\n",
    "from sklearn.compose import ColumnTransformer\n",
    "from sklearn.pipeline import Pipeline\n",
    "from sklearn.metrics import accuracy_score, precision_score, recall_score, f1_score, roc_auc_score, confusion_matrix, ConfusionMatrixDisplay, classification_report    \n"
   ]
  },
  {
   "cell_type": "markdown",
   "id": "b1d43688-b780-4f43-948c-3d204e50b679",
   "metadata": {},
   "source": [
    "DATA COLLECTION"
   ]
  },
  {
   "cell_type": "code",
   "execution_count": 10,
   "id": "eefb16b4-ee27-48cd-a1b4-85fde0786298",
   "metadata": {},
   "outputs": [],
   "source": [
    "# loading the dataset from url\n",
    "url1 = \"https://raw.githubusercontent.com/Oyeniran20/axia_cohort_8/refs/heads/main/trainperf.csv\"\n",
    "url2 = \"https://raw.githubusercontent.com/Oyeniran20/axia_cohort_8/refs/heads/main/traindemographics.csv\"\n",
    "url3 = \"https://raw.githubusercontent.com/Oyeniran20/axia_cohort_8/refs/heads/main/trainprevloans.csv\" "
   ]
  },
  {
   "cell_type": "markdown",
   "id": "756e4da0-03b6-4ea6-bada-d990ed03ab58",
   "metadata": {},
   "source": [
    "DATA IMPORTATION"
   ]
  },
  {
   "cell_type": "code",
   "execution_count": 12,
   "id": "37a86374-e485-449b-8663-360efa46fb2e",
   "metadata": {},
   "outputs": [],
   "source": [
    "df_perf = pd.read_csv(url1)\n",
    "df_demo = pd.read_csv(url2)\n",
    "df_prevloan= pd.read_csv(url3) "
   ]
  },
  {
   "cell_type": "markdown",
   "id": "011c9242-12d7-462f-ba05-709ce4c4b126",
   "metadata": {},
   "source": [
    "# EXPLORATORY DATA ANALYSIS ON PERFORMANCE DATASET "
   ]
  },
  {
   "cell_type": "code",
   "execution_count": 14,
   "id": "d8d1aa6c-02c8-425b-b79d-56f19a5d33dc",
   "metadata": {},
   "outputs": [
    {
     "data": {
      "text/html": [
       "<div>\n",
       "<style scoped>\n",
       "    .dataframe tbody tr th:only-of-type {\n",
       "        vertical-align: middle;\n",
       "    }\n",
       "\n",
       "    .dataframe tbody tr th {\n",
       "        vertical-align: top;\n",
       "    }\n",
       "\n",
       "    .dataframe thead th {\n",
       "        text-align: right;\n",
       "    }\n",
       "</style>\n",
       "<table border=\"1\" class=\"dataframe\">\n",
       "  <thead>\n",
       "    <tr style=\"text-align: right;\">\n",
       "      <th></th>\n",
       "      <th>customerid</th>\n",
       "      <th>systemloanid</th>\n",
       "      <th>loannumber</th>\n",
       "      <th>approveddate</th>\n",
       "      <th>creationdate</th>\n",
       "      <th>loanamount</th>\n",
       "      <th>totaldue</th>\n",
       "      <th>termdays</th>\n",
       "      <th>referredby</th>\n",
       "      <th>good_bad_flag</th>\n",
       "    </tr>\n",
       "  </thead>\n",
       "  <tbody>\n",
       "    <tr>\n",
       "      <th>0</th>\n",
       "      <td>8a2a81a74ce8c05d014cfb32a0da1049</td>\n",
       "      <td>301994762</td>\n",
       "      <td>12</td>\n",
       "      <td>2017-07-25 08:22:56.000000</td>\n",
       "      <td>2017-07-25 07:22:47.000000</td>\n",
       "      <td>30000.0</td>\n",
       "      <td>34500.0</td>\n",
       "      <td>30</td>\n",
       "      <td>NaN</td>\n",
       "      <td>Good</td>\n",
       "    </tr>\n",
       "    <tr>\n",
       "      <th>1</th>\n",
       "      <td>8a85886e54beabf90154c0a29ae757c0</td>\n",
       "      <td>301965204</td>\n",
       "      <td>2</td>\n",
       "      <td>2017-07-05 17:04:41.000000</td>\n",
       "      <td>2017-07-05 16:04:18.000000</td>\n",
       "      <td>15000.0</td>\n",
       "      <td>17250.0</td>\n",
       "      <td>30</td>\n",
       "      <td>NaN</td>\n",
       "      <td>Good</td>\n",
       "    </tr>\n",
       "    <tr>\n",
       "      <th>2</th>\n",
       "      <td>8a8588f35438fe12015444567666018e</td>\n",
       "      <td>301966580</td>\n",
       "      <td>7</td>\n",
       "      <td>2017-07-06 14:52:57.000000</td>\n",
       "      <td>2017-07-06 13:52:51.000000</td>\n",
       "      <td>20000.0</td>\n",
       "      <td>22250.0</td>\n",
       "      <td>15</td>\n",
       "      <td>NaN</td>\n",
       "      <td>Good</td>\n",
       "    </tr>\n",
       "    <tr>\n",
       "      <th>3</th>\n",
       "      <td>8a85890754145ace015429211b513e16</td>\n",
       "      <td>301999343</td>\n",
       "      <td>3</td>\n",
       "      <td>2017-07-27 19:00:41.000000</td>\n",
       "      <td>2017-07-27 18:00:35.000000</td>\n",
       "      <td>10000.0</td>\n",
       "      <td>11500.0</td>\n",
       "      <td>15</td>\n",
       "      <td>NaN</td>\n",
       "      <td>Good</td>\n",
       "    </tr>\n",
       "    <tr>\n",
       "      <th>4</th>\n",
       "      <td>8a858970548359cc0154883481981866</td>\n",
       "      <td>301962360</td>\n",
       "      <td>9</td>\n",
       "      <td>2017-07-03 23:42:45.000000</td>\n",
       "      <td>2017-07-03 22:42:39.000000</td>\n",
       "      <td>40000.0</td>\n",
       "      <td>44000.0</td>\n",
       "      <td>30</td>\n",
       "      <td>NaN</td>\n",
       "      <td>Good</td>\n",
       "    </tr>\n",
       "  </tbody>\n",
       "</table>\n",
       "</div>"
      ],
      "text/plain": [
       "                         customerid  systemloanid  loannumber  \\\n",
       "0  8a2a81a74ce8c05d014cfb32a0da1049     301994762          12   \n",
       "1  8a85886e54beabf90154c0a29ae757c0     301965204           2   \n",
       "2  8a8588f35438fe12015444567666018e     301966580           7   \n",
       "3  8a85890754145ace015429211b513e16     301999343           3   \n",
       "4  8a858970548359cc0154883481981866     301962360           9   \n",
       "\n",
       "                 approveddate                creationdate  loanamount  \\\n",
       "0  2017-07-25 08:22:56.000000  2017-07-25 07:22:47.000000     30000.0   \n",
       "1  2017-07-05 17:04:41.000000  2017-07-05 16:04:18.000000     15000.0   \n",
       "2  2017-07-06 14:52:57.000000  2017-07-06 13:52:51.000000     20000.0   \n",
       "3  2017-07-27 19:00:41.000000  2017-07-27 18:00:35.000000     10000.0   \n",
       "4  2017-07-03 23:42:45.000000  2017-07-03 22:42:39.000000     40000.0   \n",
       "\n",
       "   totaldue  termdays referredby good_bad_flag  \n",
       "0   34500.0        30        NaN          Good  \n",
       "1   17250.0        30        NaN          Good  \n",
       "2   22250.0        15        NaN          Good  \n",
       "3   11500.0        15        NaN          Good  \n",
       "4   44000.0        30        NaN          Good  "
      ]
     },
     "execution_count": 14,
     "metadata": {},
     "output_type": "execute_result"
    }
   ],
   "source": [
    "df_perf = pd.read_csv(url1)\n",
    "df_perf.head()  "
   ]
  },
  {
   "cell_type": "code",
   "execution_count": 15,
   "id": "0d086504-7a83-4828-be14-b398cc38f7d5",
   "metadata": {},
   "outputs": [
    {
     "data": {
      "text/plain": [
       "(4368, 10)"
      ]
     },
     "execution_count": 15,
     "metadata": {},
     "output_type": "execute_result"
    }
   ],
   "source": [
    "df_perf.shape "
   ]
  },
  {
   "cell_type": "code",
   "execution_count": 16,
   "id": "c08687de-bb37-4ff1-bcf7-df7b7bbadbaf",
   "metadata": {},
   "outputs": [
    {
     "name": "stdout",
     "output_type": "stream",
     "text": [
      "<class 'pandas.core.frame.DataFrame'>\n",
      "RangeIndex: 4368 entries, 0 to 4367\n",
      "Data columns (total 10 columns):\n",
      " #   Column         Non-Null Count  Dtype  \n",
      "---  ------         --------------  -----  \n",
      " 0   customerid     4368 non-null   object \n",
      " 1   systemloanid   4368 non-null   int64  \n",
      " 2   loannumber     4368 non-null   int64  \n",
      " 3   approveddate   4368 non-null   object \n",
      " 4   creationdate   4368 non-null   object \n",
      " 5   loanamount     4368 non-null   float64\n",
      " 6   totaldue       4368 non-null   float64\n",
      " 7   termdays       4368 non-null   int64  \n",
      " 8   referredby     587 non-null    object \n",
      " 9   good_bad_flag  4368 non-null   object \n",
      "dtypes: float64(2), int64(3), object(5)\n",
      "memory usage: 341.4+ KB\n"
     ]
    }
   ],
   "source": [
    "# check for the info of the dataset\n",
    "df_perf.info() "
   ]
  },
  {
   "cell_type": "markdown",
   "id": "7bbee3b8-f6d0-4310-a22d-9ee10b7c27c7",
   "metadata": {},
   "source": [
    "OBSERVATION\n",
    "    The Referredby has 587 rows which means there are some missing values.\n",
    "    Other Entries has 4368 rows, so we work on the missing values"
   ]
  },
  {
   "cell_type": "code",
   "execution_count": 18,
   "id": "eb7424e2-1ed6-4457-9aff-cf8236f2557f",
   "metadata": {},
   "outputs": [
    {
     "data": {
      "text/plain": [
       "Index(['customerid', 'systemloanid', 'loannumber', 'approveddate',\n",
       "       'creationdate', 'loanamount', 'totaldue', 'termdays', 'referredby',\n",
       "       'good_bad_flag'],\n",
       "      dtype='object')"
      ]
     },
     "execution_count": 18,
     "metadata": {},
     "output_type": "execute_result"
    }
   ],
   "source": [
    "df_perf.columns "
   ]
  },
  {
   "cell_type": "code",
   "execution_count": 19,
   "id": "6355ad0c-a237-46c8-9e96-82fcc062c64b",
   "metadata": {},
   "outputs": [
    {
     "data": {
      "text/plain": [
       "0"
      ]
     },
     "execution_count": 19,
     "metadata": {},
     "output_type": "execute_result"
    }
   ],
   "source": [
    "df_perf.duplicated().sum() "
   ]
  },
  {
   "cell_type": "code",
   "execution_count": 20,
   "id": "38ca4ab5-f381-4cc5-b84d-a13cfda800ff",
   "metadata": {},
   "outputs": [
    {
     "data": {
      "text/plain": [
       "0"
      ]
     },
     "execution_count": 20,
     "metadata": {},
     "output_type": "execute_result"
    }
   ],
   "source": [
    "df_perf['customerid'].duplicated().sum() "
   ]
  },
  {
   "cell_type": "code",
   "execution_count": 21,
   "id": "c8b8b02a-409e-45c0-846a-c782d837d1b5",
   "metadata": {},
   "outputs": [
    {
     "data": {
      "text/plain": [
       "good_bad_flag\n",
       "Good    3416\n",
       "Bad      952\n",
       "Name: count, dtype: int64"
      ]
     },
     "execution_count": 21,
     "metadata": {},
     "output_type": "execute_result"
    }
   ],
   "source": [
    "df_perf['good_bad_flag'].value_counts() "
   ]
  },
  {
   "cell_type": "code",
   "execution_count": 22,
   "id": "ce1fa33c-b971-4d6b-9a83-9776cd283814",
   "metadata": {},
   "outputs": [
    {
     "data": {
      "text/plain": [
       "referredby       86.561355\n",
       "customerid        0.000000\n",
       "systemloanid      0.000000\n",
       "loannumber        0.000000\n",
       "approveddate      0.000000\n",
       "creationdate      0.000000\n",
       "loanamount        0.000000\n",
       "totaldue          0.000000\n",
       "termdays          0.000000\n",
       "good_bad_flag     0.000000\n",
       "dtype: float64"
      ]
     },
     "execution_count": 22,
     "metadata": {},
     "output_type": "execute_result"
    }
   ],
   "source": [
    "(df_perf.isna().sum().sort_values(ascending=False)/len(df_perf))*100 "
   ]
  },
  {
   "cell_type": "markdown",
   "id": "1e542521-67ee-4754-9f1e-8efd9053442e",
   "metadata": {},
   "source": [
    "OBSERVATION\n",
    "    There were no duplicates.     \n",
    "    Referredby has missing values and it is over 80% so i am going to drop it.\n",
    "    Dropping it because it is not going to have any good impact on my prediction."
   ]
  },
  {
   "cell_type": "code",
   "execution_count": 24,
   "id": "0b59d8f9-32b7-4186-aa87-958ca7f06018",
   "metadata": {},
   "outputs": [],
   "source": [
    "df_perf.drop('referredby', axis=1, inplace=True) "
   ]
  },
  {
   "cell_type": "code",
   "execution_count": 25,
   "id": "04c3f75a-b826-421a-8c72-56c2635b2154",
   "metadata": {},
   "outputs": [
    {
     "data": {
      "text/plain": [
       "customerid       0.0\n",
       "systemloanid     0.0\n",
       "loannumber       0.0\n",
       "approveddate     0.0\n",
       "creationdate     0.0\n",
       "loanamount       0.0\n",
       "totaldue         0.0\n",
       "termdays         0.0\n",
       "good_bad_flag    0.0\n",
       "dtype: float64"
      ]
     },
     "execution_count": 25,
     "metadata": {},
     "output_type": "execute_result"
    }
   ],
   "source": [
    "(df_perf.isna().sum().sort_values(ascending=False)/len(df_perf))*100 "
   ]
  },
  {
   "cell_type": "code",
   "execution_count": 26,
   "id": "28190acd-779b-467e-8b3f-171ca40a7539",
   "metadata": {},
   "outputs": [
    {
     "data": {
      "text/plain": [
       "customerid        object\n",
       "systemloanid       int64\n",
       "loannumber         int64\n",
       "approveddate      object\n",
       "creationdate      object\n",
       "loanamount       float64\n",
       "totaldue         float64\n",
       "termdays           int64\n",
       "good_bad_flag     object\n",
       "dtype: object"
      ]
     },
     "execution_count": 26,
     "metadata": {},
     "output_type": "execute_result"
    }
   ],
   "source": [
    "df_perf.dtypes "
   ]
  },
  {
   "cell_type": "code",
   "execution_count": 27,
   "id": "f6dc43c1-65c3-44e7-9193-bfb181d9fe64",
   "metadata": {},
   "outputs": [],
   "source": [
    "# Convert date columns to datetime\n",
    "df_perf['approveddate'] = pd.to_datetime(df_perf['approveddate'])\n",
    "df_perf['creationdate'] = pd.to_datetime(df_perf['creationdate']) "
   ]
  },
  {
   "cell_type": "code",
   "execution_count": 28,
   "id": "1870b774-8c50-4567-8175-efb508110784",
   "metadata": {},
   "outputs": [
    {
     "name": "stdout",
     "output_type": "stream",
     "text": [
      "<class 'pandas.core.frame.DataFrame'>\n",
      "RangeIndex: 4368 entries, 0 to 4367\n",
      "Data columns (total 9 columns):\n",
      " #   Column         Non-Null Count  Dtype         \n",
      "---  ------         --------------  -----         \n",
      " 0   customerid     4368 non-null   object        \n",
      " 1   systemloanid   4368 non-null   int64         \n",
      " 2   loannumber     4368 non-null   int64         \n",
      " 3   approveddate   4368 non-null   datetime64[ns]\n",
      " 4   creationdate   4368 non-null   datetime64[ns]\n",
      " 5   loanamount     4368 non-null   float64       \n",
      " 6   totaldue       4368 non-null   float64       \n",
      " 7   termdays       4368 non-null   int64         \n",
      " 8   good_bad_flag  4368 non-null   object        \n",
      "dtypes: datetime64[ns](2), float64(2), int64(3), object(2)\n",
      "memory usage: 307.3+ KB\n"
     ]
    }
   ],
   "source": [
    "df_perf.info() "
   ]
  },
  {
   "cell_type": "code",
   "execution_count": null,
   "id": "5becb318-ff8f-4cb1-acff-1c1efeee338a",
   "metadata": {},
   "outputs": [],
   "source": []
  },
  {
   "cell_type": "code",
   "execution_count": null,
   "id": "71ec5970-46a7-44d5-9e3a-1ec4743bfcc3",
   "metadata": {},
   "outputs": [],
   "source": []
  },
  {
   "cell_type": "markdown",
   "id": "f8eeec26-1c9b-4544-b55a-32c4bc477436",
   "metadata": {},
   "source": [
    "# EXPLORATORY DATA ANALYSIS ON DEMOGRAPHIC DATASET "
   ]
  },
  {
   "cell_type": "code",
   "execution_count": 30,
   "id": "31fd56e7-c2c3-4719-9ace-8e310426688a",
   "metadata": {},
   "outputs": [
    {
     "data": {
      "text/html": [
       "<div>\n",
       "<style scoped>\n",
       "    .dataframe tbody tr th:only-of-type {\n",
       "        vertical-align: middle;\n",
       "    }\n",
       "\n",
       "    .dataframe tbody tr th {\n",
       "        vertical-align: top;\n",
       "    }\n",
       "\n",
       "    .dataframe thead th {\n",
       "        text-align: right;\n",
       "    }\n",
       "</style>\n",
       "<table border=\"1\" class=\"dataframe\">\n",
       "  <thead>\n",
       "    <tr style=\"text-align: right;\">\n",
       "      <th></th>\n",
       "      <th>customerid</th>\n",
       "      <th>birthdate</th>\n",
       "      <th>bank_account_type</th>\n",
       "      <th>longitude_gps</th>\n",
       "      <th>latitude_gps</th>\n",
       "      <th>bank_name_clients</th>\n",
       "      <th>bank_branch_clients</th>\n",
       "      <th>employment_status_clients</th>\n",
       "      <th>level_of_education_clients</th>\n",
       "    </tr>\n",
       "  </thead>\n",
       "  <tbody>\n",
       "    <tr>\n",
       "      <th>0</th>\n",
       "      <td>8a858e135cb22031015cbafc76964ebd</td>\n",
       "      <td>1973-10-10 00:00:00.000000</td>\n",
       "      <td>Savings</td>\n",
       "      <td>3.319219</td>\n",
       "      <td>6.528604</td>\n",
       "      <td>GT Bank</td>\n",
       "      <td>NaN</td>\n",
       "      <td>NaN</td>\n",
       "      <td>NaN</td>\n",
       "    </tr>\n",
       "    <tr>\n",
       "      <th>1</th>\n",
       "      <td>8a858e275c7ea5ec015c82482d7c3996</td>\n",
       "      <td>1986-01-21 00:00:00.000000</td>\n",
       "      <td>Savings</td>\n",
       "      <td>3.325598</td>\n",
       "      <td>7.119403</td>\n",
       "      <td>Sterling Bank</td>\n",
       "      <td>NaN</td>\n",
       "      <td>Permanent</td>\n",
       "      <td>NaN</td>\n",
       "    </tr>\n",
       "    <tr>\n",
       "      <th>2</th>\n",
       "      <td>8a858e5b5bd99460015bdc95cd485634</td>\n",
       "      <td>1987-04-01 00:00:00.000000</td>\n",
       "      <td>Savings</td>\n",
       "      <td>5.746100</td>\n",
       "      <td>5.563174</td>\n",
       "      <td>Fidelity Bank</td>\n",
       "      <td>NaN</td>\n",
       "      <td>NaN</td>\n",
       "      <td>NaN</td>\n",
       "    </tr>\n",
       "    <tr>\n",
       "      <th>3</th>\n",
       "      <td>8a858efd5ca70688015cabd1f1e94b55</td>\n",
       "      <td>1991-07-19 00:00:00.000000</td>\n",
       "      <td>Savings</td>\n",
       "      <td>3.362850</td>\n",
       "      <td>6.642485</td>\n",
       "      <td>GT Bank</td>\n",
       "      <td>NaN</td>\n",
       "      <td>Permanent</td>\n",
       "      <td>NaN</td>\n",
       "    </tr>\n",
       "    <tr>\n",
       "      <th>4</th>\n",
       "      <td>8a858e785acd3412015acd48f4920d04</td>\n",
       "      <td>1982-11-22 00:00:00.000000</td>\n",
       "      <td>Savings</td>\n",
       "      <td>8.455332</td>\n",
       "      <td>11.971410</td>\n",
       "      <td>GT Bank</td>\n",
       "      <td>NaN</td>\n",
       "      <td>Permanent</td>\n",
       "      <td>NaN</td>\n",
       "    </tr>\n",
       "  </tbody>\n",
       "</table>\n",
       "</div>"
      ],
      "text/plain": [
       "                         customerid                   birthdate  \\\n",
       "0  8a858e135cb22031015cbafc76964ebd  1973-10-10 00:00:00.000000   \n",
       "1  8a858e275c7ea5ec015c82482d7c3996  1986-01-21 00:00:00.000000   \n",
       "2  8a858e5b5bd99460015bdc95cd485634  1987-04-01 00:00:00.000000   \n",
       "3  8a858efd5ca70688015cabd1f1e94b55  1991-07-19 00:00:00.000000   \n",
       "4  8a858e785acd3412015acd48f4920d04  1982-11-22 00:00:00.000000   \n",
       "\n",
       "  bank_account_type  longitude_gps  latitude_gps bank_name_clients  \\\n",
       "0           Savings       3.319219      6.528604           GT Bank   \n",
       "1           Savings       3.325598      7.119403     Sterling Bank   \n",
       "2           Savings       5.746100      5.563174     Fidelity Bank   \n",
       "3           Savings       3.362850      6.642485           GT Bank   \n",
       "4           Savings       8.455332     11.971410           GT Bank   \n",
       "\n",
       "  bank_branch_clients employment_status_clients level_of_education_clients  \n",
       "0                 NaN                       NaN                        NaN  \n",
       "1                 NaN                 Permanent                        NaN  \n",
       "2                 NaN                       NaN                        NaN  \n",
       "3                 NaN                 Permanent                        NaN  \n",
       "4                 NaN                 Permanent                        NaN  "
      ]
     },
     "execution_count": 30,
     "metadata": {},
     "output_type": "execute_result"
    }
   ],
   "source": [
    "df_demo = pd.read_csv(url2)\n",
    "df_demo.head() "
   ]
  },
  {
   "cell_type": "code",
   "execution_count": 31,
   "id": "bb41a84d-f6e8-4996-b1d6-ab67bc9f8b8a",
   "metadata": {},
   "outputs": [
    {
     "data": {
      "text/plain": [
       "(4346, 9)"
      ]
     },
     "execution_count": 31,
     "metadata": {},
     "output_type": "execute_result"
    }
   ],
   "source": [
    "df_demo.shape "
   ]
  },
  {
   "cell_type": "code",
   "execution_count": 32,
   "id": "fdc984bf-9855-4083-865f-79fb7384a954",
   "metadata": {},
   "outputs": [
    {
     "data": {
      "text/plain": [
       "12"
      ]
     },
     "execution_count": 32,
     "metadata": {},
     "output_type": "execute_result"
    }
   ],
   "source": [
    "df_demo.duplicated().sum() "
   ]
  },
  {
   "cell_type": "code",
   "execution_count": 33,
   "id": "a1881a01-79aa-4c0b-8ffc-5610334f34d6",
   "metadata": {},
   "outputs": [
    {
     "name": "stdout",
     "output_type": "stream",
     "text": [
      "<class 'pandas.core.frame.DataFrame'>\n",
      "RangeIndex: 4346 entries, 0 to 4345\n",
      "Data columns (total 9 columns):\n",
      " #   Column                      Non-Null Count  Dtype  \n",
      "---  ------                      --------------  -----  \n",
      " 0   customerid                  4346 non-null   object \n",
      " 1   birthdate                   4346 non-null   object \n",
      " 2   bank_account_type           4346 non-null   object \n",
      " 3   longitude_gps               4346 non-null   float64\n",
      " 4   latitude_gps                4346 non-null   float64\n",
      " 5   bank_name_clients           4346 non-null   object \n",
      " 6   bank_branch_clients         51 non-null     object \n",
      " 7   employment_status_clients   3698 non-null   object \n",
      " 8   level_of_education_clients  587 non-null    object \n",
      "dtypes: float64(2), object(7)\n",
      "memory usage: 305.7+ KB\n"
     ]
    }
   ],
   "source": [
    "df_demo.info() "
   ]
  },
  {
   "cell_type": "code",
   "execution_count": 34,
   "id": "c3571a7b-0be1-46ee-8aa6-de7d98909b24",
   "metadata": {},
   "outputs": [],
   "source": [
    "df_demo['birthdate'] = pd.to_datetime(df_demo['birthdate'], errors='coerce') "
   ]
  },
  {
   "cell_type": "code",
   "execution_count": 35,
   "id": "1f23d2ad-138a-4a9c-b59c-7572f08620e2",
   "metadata": {},
   "outputs": [
    {
     "data": {
      "text/plain": [
       "bank_branch_clients           98.826507\n",
       "level_of_education_clients    86.493327\n",
       "employment_status_clients     14.910262\n",
       "customerid                     0.000000\n",
       "birthdate                      0.000000\n",
       "bank_account_type              0.000000\n",
       "longitude_gps                  0.000000\n",
       "latitude_gps                   0.000000\n",
       "bank_name_clients              0.000000\n",
       "dtype: float64"
      ]
     },
     "execution_count": 35,
     "metadata": {},
     "output_type": "execute_result"
    }
   ],
   "source": [
    "(df_demo.isna().sum().sort_values(ascending=False)/len(df_demo))*100 "
   ]
  },
  {
   "cell_type": "markdown",
   "id": "d24766da-feb2-4843-b5b4-f584b5e29ea6",
   "metadata": {},
   "source": [
    "OBSERVATION\n",
    "    There are 12 duplicates\n",
    "    Bank_branch_clients, Employment_status_clients, and Level_of_education_clients has missing values\n",
    "    Since the missing values are over 80%, will be dropping it."
   ]
  },
  {
   "cell_type": "code",
   "execution_count": 37,
   "id": "49e84c0e-a3b6-42f1-9d78-d2e24a2539f8",
   "metadata": {},
   "outputs": [
    {
     "data": {
      "text/plain": [
       "array([nan, 'Permanent', 'Student', 'Self-Employed', 'Unemployed',\n",
       "       'Retired', 'Contract'], dtype=object)"
      ]
     },
     "execution_count": 37,
     "metadata": {},
     "output_type": "execute_result"
    }
   ],
   "source": [
    "df_demo.employment_status_clients.unique() "
   ]
  },
  {
   "cell_type": "markdown",
   "id": "f9d3e90d-3c7c-4d20-811f-579d0ffb798a",
   "metadata": {},
   "source": [
    "CLEANING AND VALIDATING THE DATA IN THE DATASET"
   ]
  },
  {
   "cell_type": "code",
   "execution_count": 39,
   "id": "70836592-c797-4838-87c2-2fb7a4436535",
   "metadata": {},
   "outputs": [],
   "source": [
    "# For columns with high missingness (>80%), we consider dropping\n",
    "df_demo.drop(['bank_branch_clients', 'level_of_education_clients'], axis=1, inplace=True) "
   ]
  },
  {
   "cell_type": "code",
   "execution_count": 40,
   "id": "e78897ea-02b0-4417-847a-a0b57a6b6950",
   "metadata": {},
   "outputs": [],
   "source": [
    "# For categorical columns like employment_status_clients\n",
    "df_demo['employment_status_clients'].fillna('Unknown', inplace=True)  "
   ]
  },
  {
   "cell_type": "code",
   "execution_count": 41,
   "id": "b34083f1-7533-45bb-a0fa-2b9e88cf1299",
   "metadata": {},
   "outputs": [
    {
     "data": {
      "text/plain": [
       "array(['Savings', 'Other', 'Current'], dtype=object)"
      ]
     },
     "execution_count": 41,
     "metadata": {},
     "output_type": "execute_result"
    }
   ],
   "source": [
    "df_demo.bank_account_type.unique() "
   ]
  },
  {
   "cell_type": "code",
   "execution_count": 42,
   "id": "fd29a37c-fee3-486f-9e08-90d6f12f6687",
   "metadata": {},
   "outputs": [
    {
     "data": {
      "text/plain": [
       "array(['GT Bank', 'Sterling Bank', 'Fidelity Bank', 'Access Bank',\n",
       "       'EcoBank', 'FCMB', 'Skye Bank', 'UBA', 'Zenith Bank',\n",
       "       'Diamond Bank', 'First Bank', 'Union Bank', 'Stanbic IBTC',\n",
       "       'Standard Chartered', 'Heritage Bank', 'Keystone Bank',\n",
       "       'Unity Bank', 'Wema Bank'], dtype=object)"
      ]
     },
     "execution_count": 42,
     "metadata": {},
     "output_type": "execute_result"
    }
   ],
   "source": [
    "df_demo.bank_name_clients.unique() "
   ]
  },
  {
   "cell_type": "code",
   "execution_count": 43,
   "id": "9110f90e-8e05-4ac3-aa42-bc64b0fc335b",
   "metadata": {},
   "outputs": [
    {
     "name": "stdout",
     "output_type": "stream",
     "text": [
      "Latitude range: -33.8688183 to 71.2280693936817\n",
      "Longitude range: -118.2470093 to 151.20929\n"
     ]
    }
   ],
   "source": [
    "print(\"Latitude range:\", df_demo['latitude_gps'].min(), \"to\", df_demo['latitude_gps'].max())\n",
    "print(\"Longitude range:\", df_demo['longitude_gps'].min(), \"to\", df_demo['longitude_gps'].max()) "
   ]
  },
  {
   "cell_type": "code",
   "execution_count": 44,
   "id": "758b352b-de87-4ace-9c7e-5b0ed07bddfc",
   "metadata": {},
   "outputs": [],
   "source": [
    "df_demo = df_demo.drop_duplicates()  "
   ]
  },
  {
   "cell_type": "code",
   "execution_count": 45,
   "id": "0ddaf55b-001a-4d03-aa0a-f085307dd729",
   "metadata": {},
   "outputs": [
    {
     "data": {
      "text/plain": [
       "(4334, 7)"
      ]
     },
     "execution_count": 45,
     "metadata": {},
     "output_type": "execute_result"
    }
   ],
   "source": [
    "df_demo.shape "
   ]
  },
  {
   "cell_type": "code",
   "execution_count": 46,
   "id": "07e96e5c-655c-4651-9438-1be294c063d7",
   "metadata": {},
   "outputs": [
    {
     "name": "stdout",
     "output_type": "stream",
     "text": [
      "<class 'pandas.core.frame.DataFrame'>\n",
      "Index: 4334 entries, 0 to 4345\n",
      "Data columns (total 7 columns):\n",
      " #   Column                     Non-Null Count  Dtype         \n",
      "---  ------                     --------------  -----         \n",
      " 0   customerid                 4334 non-null   object        \n",
      " 1   birthdate                  4334 non-null   datetime64[ns]\n",
      " 2   bank_account_type          4334 non-null   object        \n",
      " 3   longitude_gps              4334 non-null   float64       \n",
      " 4   latitude_gps               4334 non-null   float64       \n",
      " 5   bank_name_clients          4334 non-null   object        \n",
      " 6   employment_status_clients  4334 non-null   object        \n",
      "dtypes: datetime64[ns](1), float64(2), object(4)\n",
      "memory usage: 270.9+ KB\n"
     ]
    }
   ],
   "source": [
    "df_demo.info() "
   ]
  },
  {
   "cell_type": "code",
   "execution_count": null,
   "id": "dc3cae16-c900-4046-84e0-809b95fe979e",
   "metadata": {},
   "outputs": [],
   "source": []
  },
  {
   "cell_type": "code",
   "execution_count": null,
   "id": "f1ab316c-9039-422f-b018-fc7a9708f37c",
   "metadata": {},
   "outputs": [],
   "source": []
  },
  {
   "cell_type": "markdown",
   "id": "db6e52eb-3fb0-400a-9ce4-ee429937386a",
   "metadata": {},
   "source": [
    "# EXPLORATORY DATA ANALYSIS ON PREVLOANS DATASET "
   ]
  },
  {
   "cell_type": "code",
   "execution_count": 48,
   "id": "aa7923b0-64d0-4cdf-b2aa-74ead3e9ae18",
   "metadata": {},
   "outputs": [
    {
     "data": {
      "text/html": [
       "<div>\n",
       "<style scoped>\n",
       "    .dataframe tbody tr th:only-of-type {\n",
       "        vertical-align: middle;\n",
       "    }\n",
       "\n",
       "    .dataframe tbody tr th {\n",
       "        vertical-align: top;\n",
       "    }\n",
       "\n",
       "    .dataframe thead th {\n",
       "        text-align: right;\n",
       "    }\n",
       "</style>\n",
       "<table border=\"1\" class=\"dataframe\">\n",
       "  <thead>\n",
       "    <tr style=\"text-align: right;\">\n",
       "      <th></th>\n",
       "      <th>customerid</th>\n",
       "      <th>systemloanid</th>\n",
       "      <th>loannumber</th>\n",
       "      <th>approveddate</th>\n",
       "      <th>creationdate</th>\n",
       "      <th>loanamount</th>\n",
       "      <th>totaldue</th>\n",
       "      <th>termdays</th>\n",
       "      <th>closeddate</th>\n",
       "      <th>referredby</th>\n",
       "      <th>firstduedate</th>\n",
       "      <th>firstrepaiddate</th>\n",
       "    </tr>\n",
       "  </thead>\n",
       "  <tbody>\n",
       "    <tr>\n",
       "      <th>0</th>\n",
       "      <td>8a2a81a74ce8c05d014cfb32a0da1049</td>\n",
       "      <td>301682320</td>\n",
       "      <td>2</td>\n",
       "      <td>2016-08-15 18:22:40.000000</td>\n",
       "      <td>2016-08-15 17:22:32.000000</td>\n",
       "      <td>10000.0</td>\n",
       "      <td>13000.0</td>\n",
       "      <td>30</td>\n",
       "      <td>2016-09-01 16:06:48.000000</td>\n",
       "      <td>NaN</td>\n",
       "      <td>2016-09-14 00:00:00.000000</td>\n",
       "      <td>2016-09-01 15:51:43.000000</td>\n",
       "    </tr>\n",
       "    <tr>\n",
       "      <th>1</th>\n",
       "      <td>8a2a81a74ce8c05d014cfb32a0da1049</td>\n",
       "      <td>301883808</td>\n",
       "      <td>9</td>\n",
       "      <td>2017-04-28 18:39:07.000000</td>\n",
       "      <td>2017-04-28 17:38:53.000000</td>\n",
       "      <td>10000.0</td>\n",
       "      <td>13000.0</td>\n",
       "      <td>30</td>\n",
       "      <td>2017-05-28 14:44:49.000000</td>\n",
       "      <td>NaN</td>\n",
       "      <td>2017-05-30 00:00:00.000000</td>\n",
       "      <td>2017-05-26 00:00:00.000000</td>\n",
       "    </tr>\n",
       "    <tr>\n",
       "      <th>2</th>\n",
       "      <td>8a2a81a74ce8c05d014cfb32a0da1049</td>\n",
       "      <td>301831714</td>\n",
       "      <td>8</td>\n",
       "      <td>2017-03-05 10:56:25.000000</td>\n",
       "      <td>2017-03-05 09:56:19.000000</td>\n",
       "      <td>20000.0</td>\n",
       "      <td>23800.0</td>\n",
       "      <td>30</td>\n",
       "      <td>2017-04-26 22:18:56.000000</td>\n",
       "      <td>NaN</td>\n",
       "      <td>2017-04-04 00:00:00.000000</td>\n",
       "      <td>2017-04-26 22:03:47.000000</td>\n",
       "    </tr>\n",
       "    <tr>\n",
       "      <th>3</th>\n",
       "      <td>8a8588f35438fe12015444567666018e</td>\n",
       "      <td>301861541</td>\n",
       "      <td>5</td>\n",
       "      <td>2017-04-09 18:25:55.000000</td>\n",
       "      <td>2017-04-09 17:25:42.000000</td>\n",
       "      <td>10000.0</td>\n",
       "      <td>11500.0</td>\n",
       "      <td>15</td>\n",
       "      <td>2017-04-24 01:35:52.000000</td>\n",
       "      <td>NaN</td>\n",
       "      <td>2017-04-24 00:00:00.000000</td>\n",
       "      <td>2017-04-24 00:48:43.000000</td>\n",
       "    </tr>\n",
       "    <tr>\n",
       "      <th>4</th>\n",
       "      <td>8a85890754145ace015429211b513e16</td>\n",
       "      <td>301941754</td>\n",
       "      <td>2</td>\n",
       "      <td>2017-06-17 09:29:57.000000</td>\n",
       "      <td>2017-06-17 08:29:50.000000</td>\n",
       "      <td>10000.0</td>\n",
       "      <td>11500.0</td>\n",
       "      <td>15</td>\n",
       "      <td>2017-07-14 21:18:43.000000</td>\n",
       "      <td>NaN</td>\n",
       "      <td>2017-07-03 00:00:00.000000</td>\n",
       "      <td>2017-07-14 21:08:35.000000</td>\n",
       "    </tr>\n",
       "  </tbody>\n",
       "</table>\n",
       "</div>"
      ],
      "text/plain": [
       "                         customerid  systemloanid  loannumber  \\\n",
       "0  8a2a81a74ce8c05d014cfb32a0da1049     301682320           2   \n",
       "1  8a2a81a74ce8c05d014cfb32a0da1049     301883808           9   \n",
       "2  8a2a81a74ce8c05d014cfb32a0da1049     301831714           8   \n",
       "3  8a8588f35438fe12015444567666018e     301861541           5   \n",
       "4  8a85890754145ace015429211b513e16     301941754           2   \n",
       "\n",
       "                 approveddate                creationdate  loanamount  \\\n",
       "0  2016-08-15 18:22:40.000000  2016-08-15 17:22:32.000000     10000.0   \n",
       "1  2017-04-28 18:39:07.000000  2017-04-28 17:38:53.000000     10000.0   \n",
       "2  2017-03-05 10:56:25.000000  2017-03-05 09:56:19.000000     20000.0   \n",
       "3  2017-04-09 18:25:55.000000  2017-04-09 17:25:42.000000     10000.0   \n",
       "4  2017-06-17 09:29:57.000000  2017-06-17 08:29:50.000000     10000.0   \n",
       "\n",
       "   totaldue  termdays                  closeddate referredby  \\\n",
       "0   13000.0        30  2016-09-01 16:06:48.000000        NaN   \n",
       "1   13000.0        30  2017-05-28 14:44:49.000000        NaN   \n",
       "2   23800.0        30  2017-04-26 22:18:56.000000        NaN   \n",
       "3   11500.0        15  2017-04-24 01:35:52.000000        NaN   \n",
       "4   11500.0        15  2017-07-14 21:18:43.000000        NaN   \n",
       "\n",
       "                 firstduedate             firstrepaiddate  \n",
       "0  2016-09-14 00:00:00.000000  2016-09-01 15:51:43.000000  \n",
       "1  2017-05-30 00:00:00.000000  2017-05-26 00:00:00.000000  \n",
       "2  2017-04-04 00:00:00.000000  2017-04-26 22:03:47.000000  \n",
       "3  2017-04-24 00:00:00.000000  2017-04-24 00:48:43.000000  \n",
       "4  2017-07-03 00:00:00.000000  2017-07-14 21:08:35.000000  "
      ]
     },
     "execution_count": 48,
     "metadata": {},
     "output_type": "execute_result"
    }
   ],
   "source": [
    "df_prevloan = pd.read_csv(url3)\n",
    "df_prevloan.head()  "
   ]
  },
  {
   "cell_type": "code",
   "execution_count": 49,
   "id": "5f3d21f3-a9a3-4c58-abc3-6ea1ca6c0fdc",
   "metadata": {},
   "outputs": [
    {
     "data": {
      "text/plain": [
       "(18183, 12)"
      ]
     },
     "execution_count": 49,
     "metadata": {},
     "output_type": "execute_result"
    }
   ],
   "source": [
    "df_prevloan.shape "
   ]
  },
  {
   "cell_type": "code",
   "execution_count": 50,
   "id": "6d2ce593-b946-42c0-b0da-76ce325d6b4f",
   "metadata": {},
   "outputs": [
    {
     "name": "stdout",
     "output_type": "stream",
     "text": [
      "<class 'pandas.core.frame.DataFrame'>\n",
      "RangeIndex: 18183 entries, 0 to 18182\n",
      "Data columns (total 12 columns):\n",
      " #   Column           Non-Null Count  Dtype  \n",
      "---  ------           --------------  -----  \n",
      " 0   customerid       18183 non-null  object \n",
      " 1   systemloanid     18183 non-null  int64  \n",
      " 2   loannumber       18183 non-null  int64  \n",
      " 3   approveddate     18183 non-null  object \n",
      " 4   creationdate     18183 non-null  object \n",
      " 5   loanamount       18183 non-null  float64\n",
      " 6   totaldue         18183 non-null  float64\n",
      " 7   termdays         18183 non-null  int64  \n",
      " 8   closeddate       18183 non-null  object \n",
      " 9   referredby       1026 non-null   object \n",
      " 10  firstduedate     18183 non-null  object \n",
      " 11  firstrepaiddate  18183 non-null  object \n",
      "dtypes: float64(2), int64(3), object(7)\n",
      "memory usage: 1.7+ MB\n"
     ]
    }
   ],
   "source": [
    "df_prevloan.info() "
   ]
  },
  {
   "cell_type": "markdown",
   "id": "8d452981-9486-4946-92d0-2680f71fdd73",
   "metadata": {},
   "source": [
    "# Converting the incorrect data types in the date column to a date-time datatype "
   ]
  },
  {
   "cell_type": "code",
   "execution_count": 52,
   "id": "dc0cfd7c-31d4-4358-b591-25a7dcfbef39",
   "metadata": {},
   "outputs": [],
   "source": [
    "# Convert all date columns \n",
    "date_cols = ['approveddate', 'creationdate', 'closeddate', 'firstduedate', 'firstrepaiddate']\n",
    "for col in date_cols:\n",
    "    df_prevloan[col] = pd.to_datetime(df_prevloan[col], errors='coerce')    "
   ]
  },
  {
   "cell_type": "code",
   "execution_count": 53,
   "id": "86de3891-962e-481a-8b1b-3d36f21a56b1",
   "metadata": {},
   "outputs": [
    {
     "name": "stdout",
     "output_type": "stream",
     "text": [
      "<class 'pandas.core.frame.DataFrame'>\n",
      "RangeIndex: 18183 entries, 0 to 18182\n",
      "Data columns (total 12 columns):\n",
      " #   Column           Non-Null Count  Dtype         \n",
      "---  ------           --------------  -----         \n",
      " 0   customerid       18183 non-null  object        \n",
      " 1   systemloanid     18183 non-null  int64         \n",
      " 2   loannumber       18183 non-null  int64         \n",
      " 3   approveddate     18183 non-null  datetime64[ns]\n",
      " 4   creationdate     18183 non-null  datetime64[ns]\n",
      " 5   loanamount       18183 non-null  float64       \n",
      " 6   totaldue         18183 non-null  float64       \n",
      " 7   termdays         18183 non-null  int64         \n",
      " 8   closeddate       18183 non-null  datetime64[ns]\n",
      " 9   referredby       1026 non-null   object        \n",
      " 10  firstduedate     18183 non-null  datetime64[ns]\n",
      " 11  firstrepaiddate  18183 non-null  datetime64[ns]\n",
      "dtypes: datetime64[ns](5), float64(2), int64(3), object(2)\n",
      "memory usage: 1.7+ MB\n"
     ]
    }
   ],
   "source": [
    "df_prevloan.info() "
   ]
  },
  {
   "cell_type": "code",
   "execution_count": 54,
   "id": "d35b2e0f-9a19-4681-869b-ea5c4c1cadb3",
   "metadata": {},
   "outputs": [
    {
     "data": {
      "text/plain": [
       "array(['8a2a81a74ce8c05d014cfb32a0da1049',\n",
       "       '8a8588f35438fe12015444567666018e',\n",
       "       '8a85890754145ace015429211b513e16', ...,\n",
       "       '8a858f6459b6456d0159b69978f22bed',\n",
       "       '8a858fad5ccb633e015ccbe337372ab3',\n",
       "       '8a858f0656b7820c0156c92ca3ba436f'], dtype=object)"
      ]
     },
     "execution_count": 54,
     "metadata": {},
     "output_type": "execute_result"
    }
   ],
   "source": [
    "# checking for unique customers\n",
    "df_prevloan['customerid'].unique()  "
   ]
  },
  {
   "cell_type": "code",
   "execution_count": 55,
   "id": "548d483e-9164-4126-bf5b-e6c9d0dfa165",
   "metadata": {},
   "outputs": [
    {
     "data": {
      "text/plain": [
       "4359"
      ]
     },
     "execution_count": 55,
     "metadata": {},
     "output_type": "execute_result"
    }
   ],
   "source": [
    "# checking for number of unique customers\n",
    "df_prevloan['customerid'].nunique() "
   ]
  },
  {
   "cell_type": "code",
   "execution_count": 56,
   "id": "ab7dc21d-5ca6-429b-91b1-e68c3b71e55d",
   "metadata": {},
   "outputs": [
    {
     "data": {
      "text/plain": [
       "0"
      ]
     },
     "execution_count": 56,
     "metadata": {},
     "output_type": "execute_result"
    }
   ],
   "source": [
    "df_prevloan.duplicated().sum() "
   ]
  },
  {
   "cell_type": "code",
   "execution_count": 57,
   "id": "83edd87e-ff50-4c13-a390-4f9769954f32",
   "metadata": {},
   "outputs": [
    {
     "data": {
      "text/plain": [
       "13824"
      ]
     },
     "execution_count": 57,
     "metadata": {},
     "output_type": "execute_result"
    }
   ],
   "source": [
    "df_prevloan['customerid'].duplicated().sum() "
   ]
  },
  {
   "cell_type": "code",
   "execution_count": 58,
   "id": "6ed176d5-48a2-454c-8fb2-a341d3c06ed4",
   "metadata": {},
   "outputs": [
    {
     "data": {
      "text/plain": [
       "Index(['customerid', 'systemloanid', 'loannumber', 'approveddate',\n",
       "       'creationdate', 'loanamount', 'totaldue', 'termdays', 'closeddate',\n",
       "       'referredby', 'firstduedate', 'firstrepaiddate'],\n",
       "      dtype='object')"
      ]
     },
     "execution_count": 58,
     "metadata": {},
     "output_type": "execute_result"
    }
   ],
   "source": [
    "df_prevloan.columns "
   ]
  },
  {
   "cell_type": "markdown",
   "id": "e4667c9e-07e2-4617-92f0-26219fb723b8",
   "metadata": {},
   "source": [
    "OBSERVATION\n",
    "    There are no duplicates\n",
    "    Referredby has missing values and it is over 80%, so i dropped it"
   ]
  },
  {
   "cell_type": "markdown",
   "id": "102099a7-71c2-46cc-bdf5-dd2663394d92",
   "metadata": {},
   "source": [
    "# Creating new features(feature engineering) with the first due date and first repaid date "
   ]
  },
  {
   "cell_type": "code",
   "execution_count": 61,
   "id": "1d988d97-afdf-4c92-8aab-67fca2adda37",
   "metadata": {},
   "outputs": [],
   "source": [
    "df_prevloan['repayment_delay'] = (df_prevloan['firstrepaiddate'] - df_prevloan['firstduedate']).dt.days "
   ]
  },
  {
   "cell_type": "code",
   "execution_count": 62,
   "id": "e7c207cb-431d-4770-8bd6-dc1b98cd6460",
   "metadata": {
    "scrolled": true
   },
   "outputs": [
    {
     "data": {
      "text/plain": [
       "0       -13\n",
       "1        -4\n",
       "2        22\n",
       "3         0\n",
       "4        11\n",
       "         ..\n",
       "18178    -3\n",
       "18179    -6\n",
       "18180    -3\n",
       "18181    19\n",
       "18182   -15\n",
       "Name: repayment_delay, Length: 18183, dtype: int64"
      ]
     },
     "execution_count": 62,
     "metadata": {},
     "output_type": "execute_result"
    }
   ],
   "source": [
    "df_prevloan['repayment_delay']#first feature created "
   ]
  },
  {
   "cell_type": "markdown",
   "id": "d7e019e2-8189-472a-80aa-c90d97055bf0",
   "metadata": {},
   "source": [
    "# FEATURE CREATIONS "
   ]
  },
  {
   "cell_type": "code",
   "execution_count": 64,
   "id": "2f9e335a-b446-4fb7-8616-1c6fe1c67dc8",
   "metadata": {},
   "outputs": [],
   "source": [
    "df_prevloan['interest_amount'] = df_prevloan['totaldue'] - df_prevloan['loanamount'] "
   ]
  },
  {
   "cell_type": "code",
   "execution_count": 65,
   "id": "32a12b0b-b36b-4fd8-805e-309508d08488",
   "metadata": {},
   "outputs": [],
   "source": [
    "df_prevloan['interest_rate'] = ((\n",
    "    (df_prevloan['totaldue'] - df_prevloan['loanamount']) / df_prevloan['loanamount']) * (365 / df_prevloan['termdays'])).round(2)\n",
    "df_prevloan['repayment_ratio'] = df_prevloan['totaldue'] / df_prevloan['loanamount'] "
   ]
  },
  {
   "cell_type": "code",
   "execution_count": 66,
   "id": "7a0e3a7b-1ae2-44d6-acec-b6e7da53653b",
   "metadata": {},
   "outputs": [
    {
     "data": {
      "text/html": [
       "<div>\n",
       "<style scoped>\n",
       "    .dataframe tbody tr th:only-of-type {\n",
       "        vertical-align: middle;\n",
       "    }\n",
       "\n",
       "    .dataframe tbody tr th {\n",
       "        vertical-align: top;\n",
       "    }\n",
       "\n",
       "    .dataframe thead th {\n",
       "        text-align: right;\n",
       "    }\n",
       "</style>\n",
       "<table border=\"1\" class=\"dataframe\">\n",
       "  <thead>\n",
       "    <tr style=\"text-align: right;\">\n",
       "      <th></th>\n",
       "      <th>customerid</th>\n",
       "      <th>systemloanid</th>\n",
       "      <th>loannumber</th>\n",
       "      <th>approveddate</th>\n",
       "      <th>creationdate</th>\n",
       "      <th>loanamount</th>\n",
       "      <th>totaldue</th>\n",
       "      <th>termdays</th>\n",
       "      <th>closeddate</th>\n",
       "      <th>referredby</th>\n",
       "      <th>firstduedate</th>\n",
       "      <th>firstrepaiddate</th>\n",
       "      <th>repayment_delay</th>\n",
       "      <th>interest_amount</th>\n",
       "      <th>interest_rate</th>\n",
       "      <th>repayment_ratio</th>\n",
       "    </tr>\n",
       "  </thead>\n",
       "  <tbody>\n",
       "    <tr>\n",
       "      <th>0</th>\n",
       "      <td>8a2a81a74ce8c05d014cfb32a0da1049</td>\n",
       "      <td>301682320</td>\n",
       "      <td>2</td>\n",
       "      <td>2016-08-15 18:22:40</td>\n",
       "      <td>2016-08-15 17:22:32</td>\n",
       "      <td>10000.0</td>\n",
       "      <td>13000.0</td>\n",
       "      <td>30</td>\n",
       "      <td>2016-09-01 16:06:48</td>\n",
       "      <td>NaN</td>\n",
       "      <td>2016-09-14</td>\n",
       "      <td>2016-09-01 15:51:43</td>\n",
       "      <td>-13</td>\n",
       "      <td>3000.0</td>\n",
       "      <td>3.65</td>\n",
       "      <td>1.30</td>\n",
       "    </tr>\n",
       "    <tr>\n",
       "      <th>1</th>\n",
       "      <td>8a2a81a74ce8c05d014cfb32a0da1049</td>\n",
       "      <td>301883808</td>\n",
       "      <td>9</td>\n",
       "      <td>2017-04-28 18:39:07</td>\n",
       "      <td>2017-04-28 17:38:53</td>\n",
       "      <td>10000.0</td>\n",
       "      <td>13000.0</td>\n",
       "      <td>30</td>\n",
       "      <td>2017-05-28 14:44:49</td>\n",
       "      <td>NaN</td>\n",
       "      <td>2017-05-30</td>\n",
       "      <td>2017-05-26 00:00:00</td>\n",
       "      <td>-4</td>\n",
       "      <td>3000.0</td>\n",
       "      <td>3.65</td>\n",
       "      <td>1.30</td>\n",
       "    </tr>\n",
       "    <tr>\n",
       "      <th>2</th>\n",
       "      <td>8a2a81a74ce8c05d014cfb32a0da1049</td>\n",
       "      <td>301831714</td>\n",
       "      <td>8</td>\n",
       "      <td>2017-03-05 10:56:25</td>\n",
       "      <td>2017-03-05 09:56:19</td>\n",
       "      <td>20000.0</td>\n",
       "      <td>23800.0</td>\n",
       "      <td>30</td>\n",
       "      <td>2017-04-26 22:18:56</td>\n",
       "      <td>NaN</td>\n",
       "      <td>2017-04-04</td>\n",
       "      <td>2017-04-26 22:03:47</td>\n",
       "      <td>22</td>\n",
       "      <td>3800.0</td>\n",
       "      <td>2.31</td>\n",
       "      <td>1.19</td>\n",
       "    </tr>\n",
       "  </tbody>\n",
       "</table>\n",
       "</div>"
      ],
      "text/plain": [
       "                         customerid  systemloanid  loannumber  \\\n",
       "0  8a2a81a74ce8c05d014cfb32a0da1049     301682320           2   \n",
       "1  8a2a81a74ce8c05d014cfb32a0da1049     301883808           9   \n",
       "2  8a2a81a74ce8c05d014cfb32a0da1049     301831714           8   \n",
       "\n",
       "         approveddate        creationdate  loanamount  totaldue  termdays  \\\n",
       "0 2016-08-15 18:22:40 2016-08-15 17:22:32     10000.0   13000.0        30   \n",
       "1 2017-04-28 18:39:07 2017-04-28 17:38:53     10000.0   13000.0        30   \n",
       "2 2017-03-05 10:56:25 2017-03-05 09:56:19     20000.0   23800.0        30   \n",
       "\n",
       "           closeddate referredby firstduedate     firstrepaiddate  \\\n",
       "0 2016-09-01 16:06:48        NaN   2016-09-14 2016-09-01 15:51:43   \n",
       "1 2017-05-28 14:44:49        NaN   2017-05-30 2017-05-26 00:00:00   \n",
       "2 2017-04-26 22:18:56        NaN   2017-04-04 2017-04-26 22:03:47   \n",
       "\n",
       "   repayment_delay  interest_amount  interest_rate  repayment_ratio  \n",
       "0              -13           3000.0           3.65             1.30  \n",
       "1               -4           3000.0           3.65             1.30  \n",
       "2               22           3800.0           2.31             1.19  "
      ]
     },
     "execution_count": 66,
     "metadata": {},
     "output_type": "execute_result"
    }
   ],
   "source": [
    "df_prevloan.head(3) "
   ]
  },
  {
   "cell_type": "markdown",
   "id": "735f297a-3bba-42b9-9334-38e8dfe2ebc6",
   "metadata": {},
   "source": [
    " AGGREGATING THE NEW FEATURES"
   ]
  },
  {
   "cell_type": "code",
   "execution_count": 68,
   "id": "9152e31f-cb10-445c-b4cc-06a0c3464b0f",
   "metadata": {},
   "outputs": [],
   "source": [
    "# aggregating the new features on the customerid using groupby\n",
    "df_prevloan_agg = df_prevloan.groupby('customerid').agg({\n",
    "    'systemloanid': 'count', # number of past loans\n",
    "    'loanamount': 'sum',\n",
    "    'interest_amount': 'sum', # total late first repayments\n",
    "    'interest_rate': 'sum', # total late closures\n",
    "    'repayment_ratio': 'sum',\n",
    "    'repayment_delay': 'sum',\n",
    "}).reset_index() "
   ]
  },
  {
   "cell_type": "code",
   "execution_count": 69,
   "id": "08453f43-13f4-48d2-b5c6-f95a8aea3782",
   "metadata": {},
   "outputs": [
    {
     "data": {
      "text/html": [
       "<div>\n",
       "<style scoped>\n",
       "    .dataframe tbody tr th:only-of-type {\n",
       "        vertical-align: middle;\n",
       "    }\n",
       "\n",
       "    .dataframe tbody tr th {\n",
       "        vertical-align: top;\n",
       "    }\n",
       "\n",
       "    .dataframe thead th {\n",
       "        text-align: right;\n",
       "    }\n",
       "</style>\n",
       "<table border=\"1\" class=\"dataframe\">\n",
       "  <thead>\n",
       "    <tr style=\"text-align: right;\">\n",
       "      <th></th>\n",
       "      <th>customerid</th>\n",
       "      <th>systemloanid</th>\n",
       "      <th>loanamount</th>\n",
       "      <th>interest_amount</th>\n",
       "      <th>interest_rate</th>\n",
       "      <th>repayment_ratio</th>\n",
       "      <th>repayment_delay</th>\n",
       "    </tr>\n",
       "  </thead>\n",
       "  <tbody>\n",
       "    <tr>\n",
       "      <th>0</th>\n",
       "      <td>8a1088a0484472eb01484669e3ce4e0b</td>\n",
       "      <td>1</td>\n",
       "      <td>10000.0</td>\n",
       "      <td>1500.0</td>\n",
       "      <td>3.65</td>\n",
       "      <td>1.150</td>\n",
       "      <td>6</td>\n",
       "    </tr>\n",
       "    <tr>\n",
       "      <th>1</th>\n",
       "      <td>8a1a1e7e4f707f8b014f797718316cad</td>\n",
       "      <td>4</td>\n",
       "      <td>70000.0</td>\n",
       "      <td>19500.0</td>\n",
       "      <td>11.86</td>\n",
       "      <td>5.125</td>\n",
       "      <td>-1</td>\n",
       "    </tr>\n",
       "    <tr>\n",
       "      <th>2</th>\n",
       "      <td>8a1a32fc49b632520149c3b8fdf85139</td>\n",
       "      <td>7</td>\n",
       "      <td>90000.0</td>\n",
       "      <td>16500.0</td>\n",
       "      <td>23.73</td>\n",
       "      <td>8.200</td>\n",
       "      <td>-3</td>\n",
       "    </tr>\n",
       "    <tr>\n",
       "      <th>3</th>\n",
       "      <td>8a1eb5ba49a682300149c3c068b806c7</td>\n",
       "      <td>8</td>\n",
       "      <td>130000.0</td>\n",
       "      <td>32400.0</td>\n",
       "      <td>23.35</td>\n",
       "      <td>10.070</td>\n",
       "      <td>-25</td>\n",
       "    </tr>\n",
       "  </tbody>\n",
       "</table>\n",
       "</div>"
      ],
      "text/plain": [
       "                         customerid  systemloanid  loanamount  \\\n",
       "0  8a1088a0484472eb01484669e3ce4e0b             1     10000.0   \n",
       "1  8a1a1e7e4f707f8b014f797718316cad             4     70000.0   \n",
       "2  8a1a32fc49b632520149c3b8fdf85139             7     90000.0   \n",
       "3  8a1eb5ba49a682300149c3c068b806c7             8    130000.0   \n",
       "\n",
       "   interest_amount  interest_rate  repayment_ratio  repayment_delay  \n",
       "0           1500.0           3.65            1.150                6  \n",
       "1          19500.0          11.86            5.125               -1  \n",
       "2          16500.0          23.73            8.200               -3  \n",
       "3          32400.0          23.35           10.070              -25  "
      ]
     },
     "execution_count": 69,
     "metadata": {},
     "output_type": "execute_result"
    }
   ],
   "source": [
    "df_prevloan_agg.head(4)   "
   ]
  },
  {
   "cell_type": "code",
   "execution_count": 70,
   "id": "253c1152-d415-4e9e-88d4-1cf1f3a2a318",
   "metadata": {},
   "outputs": [
    {
     "data": {
      "text/plain": [
       "(4359, 7)"
      ]
     },
     "execution_count": 70,
     "metadata": {},
     "output_type": "execute_result"
    }
   ],
   "source": [
    "df_prevloan_agg.shape "
   ]
  },
  {
   "cell_type": "code",
   "execution_count": 71,
   "id": "63a623a8-714b-47c9-bd54-9b7c9cbcdd4e",
   "metadata": {},
   "outputs": [
    {
     "data": {
      "text/plain": [
       "4359"
      ]
     },
     "execution_count": 71,
     "metadata": {},
     "output_type": "execute_result"
    }
   ],
   "source": [
    "df_prevloan_agg['customerid'].nunique() "
   ]
  },
  {
   "cell_type": "code",
   "execution_count": 72,
   "id": "8156531a-b2f9-4b0f-a977-e53bf63823f2",
   "metadata": {},
   "outputs": [],
   "source": [
    "df_prevloan_agg['prevloanamount'] = df_prevloan_agg['loanamount'] "
   ]
  },
  {
   "cell_type": "code",
   "execution_count": 73,
   "id": "3acb385f-95a5-44e2-997f-f2768460ccc0",
   "metadata": {},
   "outputs": [],
   "source": [
    "df_prevloan_agg.drop(['loanamount'], axis=1, inplace=True) "
   ]
  },
  {
   "cell_type": "code",
   "execution_count": 74,
   "id": "163ac672-4ff9-4e87-9aae-4f31805d925f",
   "metadata": {},
   "outputs": [
    {
     "data": {
      "text/plain": [
       "customerid         0\n",
       "systemloanid       0\n",
       "interest_amount    0\n",
       "interest_rate      0\n",
       "repayment_ratio    0\n",
       "repayment_delay    0\n",
       "prevloanamount     0\n",
       "dtype: int64"
      ]
     },
     "execution_count": 74,
     "metadata": {},
     "output_type": "execute_result"
    }
   ],
   "source": [
    "df_prevloan_agg.isna().sum()  "
   ]
  },
  {
   "cell_type": "code",
   "execution_count": 75,
   "id": "beb4213e-f3e7-4b7d-a06a-4b51bec6b47c",
   "metadata": {},
   "outputs": [
    {
     "data": {
      "text/plain": [
       "0"
      ]
     },
     "execution_count": 75,
     "metadata": {},
     "output_type": "execute_result"
    }
   ],
   "source": [
    "df_prevloan_agg['customerid'].duplicated().sum() "
   ]
  },
  {
   "cell_type": "code",
   "execution_count": null,
   "id": "529fc034-0cdd-47dc-8836-124384c8f6ba",
   "metadata": {},
   "outputs": [],
   "source": []
  },
  {
   "cell_type": "markdown",
   "id": "c73d22cd-238c-4a81-9bfd-a5ccfc583995",
   "metadata": {},
   "source": [
    "# MERGING THE DATASET OF THE TARGET DATASET WHICH IS THE PERFORMANCE USING LEFT JOIN "
   ]
  },
  {
   "cell_type": "code",
   "execution_count": 77,
   "id": "3d824bfe-7371-4ba0-932c-a36858a11d03",
   "metadata": {},
   "outputs": [],
   "source": [
    "df_merged = pd.merge(df_perf, df_demo, on='customerid', how='left') "
   ]
  },
  {
   "cell_type": "code",
   "execution_count": 78,
   "id": "b0e006f1-a4f1-4564-9f09-141b11d317b9",
   "metadata": {},
   "outputs": [
    {
     "data": {
      "text/plain": [
       "(4368, 15)"
      ]
     },
     "execution_count": 78,
     "metadata": {},
     "output_type": "execute_result"
    }
   ],
   "source": [
    "df_merged.shape "
   ]
  },
  {
   "cell_type": "code",
   "execution_count": 79,
   "id": "35b7c0fa-e1b1-4474-b9db-cfcf6afb173e",
   "metadata": {},
   "outputs": [
    {
     "data": {
      "text/plain": [
       "birthdate                    25.160256\n",
       "bank_account_type            25.160256\n",
       "longitude_gps                25.160256\n",
       "latitude_gps                 25.160256\n",
       "bank_name_clients            25.160256\n",
       "employment_status_clients    25.160256\n",
       "customerid                    0.000000\n",
       "systemloanid                  0.000000\n",
       "loannumber                    0.000000\n",
       "approveddate                  0.000000\n",
       "creationdate                  0.000000\n",
       "loanamount                    0.000000\n",
       "totaldue                      0.000000\n",
       "termdays                      0.000000\n",
       "good_bad_flag                 0.000000\n",
       "dtype: float64"
      ]
     },
     "execution_count": 79,
     "metadata": {},
     "output_type": "execute_result"
    }
   ],
   "source": [
    "df_merged.isna().sum().sort_values(ascending=False)/len(df_merged)*100 "
   ]
  },
  {
   "cell_type": "code",
   "execution_count": 80,
   "id": "07d90dd1-46cf-4924-be89-5178e4a1bf1a",
   "metadata": {},
   "outputs": [],
   "source": [
    "df_merged.dropna(inplace=True) "
   ]
  },
  {
   "cell_type": "code",
   "execution_count": 81,
   "id": "f3d0f61a-3227-4c98-859b-7b35dd0f9fb4",
   "metadata": {},
   "outputs": [
    {
     "data": {
      "text/plain": [
       "customerid                   0\n",
       "systemloanid                 0\n",
       "loannumber                   0\n",
       "approveddate                 0\n",
       "creationdate                 0\n",
       "loanamount                   0\n",
       "totaldue                     0\n",
       "termdays                     0\n",
       "good_bad_flag                0\n",
       "birthdate                    0\n",
       "bank_account_type            0\n",
       "longitude_gps                0\n",
       "latitude_gps                 0\n",
       "bank_name_clients            0\n",
       "employment_status_clients    0\n",
       "dtype: int64"
      ]
     },
     "execution_count": 81,
     "metadata": {},
     "output_type": "execute_result"
    }
   ],
   "source": [
    "df_merged.isna().sum() "
   ]
  },
  {
   "cell_type": "code",
   "execution_count": 82,
   "id": "7685a8c9-a51c-4269-883c-9996e36008ae",
   "metadata": {},
   "outputs": [],
   "source": [
    "df = pd.merge(df_merged, df_prevloan_agg, on='customerid', how='left') "
   ]
  },
  {
   "cell_type": "code",
   "execution_count": 83,
   "id": "0649e2db-20d2-4b1f-9042-dfc2a9418883",
   "metadata": {},
   "outputs": [
    {
     "data": {
      "text/html": [
       "<div>\n",
       "<style scoped>\n",
       "    .dataframe tbody tr th:only-of-type {\n",
       "        vertical-align: middle;\n",
       "    }\n",
       "\n",
       "    .dataframe tbody tr th {\n",
       "        vertical-align: top;\n",
       "    }\n",
       "\n",
       "    .dataframe thead th {\n",
       "        text-align: right;\n",
       "    }\n",
       "</style>\n",
       "<table border=\"1\" class=\"dataframe\">\n",
       "  <thead>\n",
       "    <tr style=\"text-align: right;\">\n",
       "      <th></th>\n",
       "      <th>customerid</th>\n",
       "      <th>systemloanid_x</th>\n",
       "      <th>loannumber</th>\n",
       "      <th>approveddate</th>\n",
       "      <th>creationdate</th>\n",
       "      <th>loanamount</th>\n",
       "      <th>totaldue</th>\n",
       "      <th>termdays</th>\n",
       "      <th>good_bad_flag</th>\n",
       "      <th>birthdate</th>\n",
       "      <th>...</th>\n",
       "      <th>longitude_gps</th>\n",
       "      <th>latitude_gps</th>\n",
       "      <th>bank_name_clients</th>\n",
       "      <th>employment_status_clients</th>\n",
       "      <th>systemloanid_y</th>\n",
       "      <th>interest_amount</th>\n",
       "      <th>interest_rate</th>\n",
       "      <th>repayment_ratio</th>\n",
       "      <th>repayment_delay</th>\n",
       "      <th>prevloanamount</th>\n",
       "    </tr>\n",
       "  </thead>\n",
       "  <tbody>\n",
       "    <tr>\n",
       "      <th>0</th>\n",
       "      <td>8a2a81a74ce8c05d014cfb32a0da1049</td>\n",
       "      <td>301994762</td>\n",
       "      <td>12</td>\n",
       "      <td>2017-07-25 08:22:56</td>\n",
       "      <td>2017-07-25 07:22:47</td>\n",
       "      <td>30000.0</td>\n",
       "      <td>34500.0</td>\n",
       "      <td>30</td>\n",
       "      <td>Good</td>\n",
       "      <td>1972-01-15</td>\n",
       "      <td>...</td>\n",
       "      <td>3.432010</td>\n",
       "      <td>6.433055</td>\n",
       "      <td>Diamond Bank</td>\n",
       "      <td>Permanent</td>\n",
       "      <td>11.0</td>\n",
       "      <td>42900.0</td>\n",
       "      <td>30.66</td>\n",
       "      <td>13.52</td>\n",
       "      <td>-10.0</td>\n",
       "      <td>200000.0</td>\n",
       "    </tr>\n",
       "    <tr>\n",
       "      <th>1</th>\n",
       "      <td>8a85886e54beabf90154c0a29ae757c0</td>\n",
       "      <td>301965204</td>\n",
       "      <td>2</td>\n",
       "      <td>2017-07-05 17:04:41</td>\n",
       "      <td>2017-07-05 16:04:18</td>\n",
       "      <td>15000.0</td>\n",
       "      <td>17250.0</td>\n",
       "      <td>30</td>\n",
       "      <td>Good</td>\n",
       "      <td>1985-08-23</td>\n",
       "      <td>...</td>\n",
       "      <td>3.885298</td>\n",
       "      <td>7.320700</td>\n",
       "      <td>GT Bank</td>\n",
       "      <td>Permanent</td>\n",
       "      <td>NaN</td>\n",
       "      <td>NaN</td>\n",
       "      <td>NaN</td>\n",
       "      <td>NaN</td>\n",
       "      <td>NaN</td>\n",
       "      <td>NaN</td>\n",
       "    </tr>\n",
       "    <tr>\n",
       "      <th>2</th>\n",
       "      <td>8a8588f35438fe12015444567666018e</td>\n",
       "      <td>301966580</td>\n",
       "      <td>7</td>\n",
       "      <td>2017-07-06 14:52:57</td>\n",
       "      <td>2017-07-06 13:52:51</td>\n",
       "      <td>20000.0</td>\n",
       "      <td>22250.0</td>\n",
       "      <td>15</td>\n",
       "      <td>Good</td>\n",
       "      <td>1984-09-18</td>\n",
       "      <td>...</td>\n",
       "      <td>11.139350</td>\n",
       "      <td>10.292041</td>\n",
       "      <td>EcoBank</td>\n",
       "      <td>Permanent</td>\n",
       "      <td>6.0</td>\n",
       "      <td>10500.0</td>\n",
       "      <td>21.90</td>\n",
       "      <td>7.05</td>\n",
       "      <td>5.0</td>\n",
       "      <td>60000.0</td>\n",
       "    </tr>\n",
       "    <tr>\n",
       "      <th>3</th>\n",
       "      <td>8a85890754145ace015429211b513e16</td>\n",
       "      <td>301999343</td>\n",
       "      <td>3</td>\n",
       "      <td>2017-07-27 19:00:41</td>\n",
       "      <td>2017-07-27 18:00:35</td>\n",
       "      <td>10000.0</td>\n",
       "      <td>11500.0</td>\n",
       "      <td>15</td>\n",
       "      <td>Good</td>\n",
       "      <td>1977-10-10</td>\n",
       "      <td>...</td>\n",
       "      <td>3.985770</td>\n",
       "      <td>7.491708</td>\n",
       "      <td>First Bank</td>\n",
       "      <td>Permanent</td>\n",
       "      <td>2.0</td>\n",
       "      <td>4500.0</td>\n",
       "      <td>7.30</td>\n",
       "      <td>2.45</td>\n",
       "      <td>15.0</td>\n",
       "      <td>20000.0</td>\n",
       "    </tr>\n",
       "    <tr>\n",
       "      <th>4</th>\n",
       "      <td>8a858970548359cc0154883481981866</td>\n",
       "      <td>301962360</td>\n",
       "      <td>9</td>\n",
       "      <td>2017-07-03 23:42:45</td>\n",
       "      <td>2017-07-03 22:42:39</td>\n",
       "      <td>40000.0</td>\n",
       "      <td>44000.0</td>\n",
       "      <td>30</td>\n",
       "      <td>Good</td>\n",
       "      <td>1986-09-07</td>\n",
       "      <td>...</td>\n",
       "      <td>7.457913</td>\n",
       "      <td>9.076574</td>\n",
       "      <td>GT Bank</td>\n",
       "      <td>Permanent</td>\n",
       "      <td>8.0</td>\n",
       "      <td>38400.0</td>\n",
       "      <td>21.52</td>\n",
       "      <td>10.07</td>\n",
       "      <td>-25.0</td>\n",
       "      <td>150000.0</td>\n",
       "    </tr>\n",
       "  </tbody>\n",
       "</table>\n",
       "<p>5 rows × 21 columns</p>\n",
       "</div>"
      ],
      "text/plain": [
       "                         customerid  systemloanid_x  loannumber  \\\n",
       "0  8a2a81a74ce8c05d014cfb32a0da1049       301994762          12   \n",
       "1  8a85886e54beabf90154c0a29ae757c0       301965204           2   \n",
       "2  8a8588f35438fe12015444567666018e       301966580           7   \n",
       "3  8a85890754145ace015429211b513e16       301999343           3   \n",
       "4  8a858970548359cc0154883481981866       301962360           9   \n",
       "\n",
       "         approveddate        creationdate  loanamount  totaldue  termdays  \\\n",
       "0 2017-07-25 08:22:56 2017-07-25 07:22:47     30000.0   34500.0        30   \n",
       "1 2017-07-05 17:04:41 2017-07-05 16:04:18     15000.0   17250.0        30   \n",
       "2 2017-07-06 14:52:57 2017-07-06 13:52:51     20000.0   22250.0        15   \n",
       "3 2017-07-27 19:00:41 2017-07-27 18:00:35     10000.0   11500.0        15   \n",
       "4 2017-07-03 23:42:45 2017-07-03 22:42:39     40000.0   44000.0        30   \n",
       "\n",
       "  good_bad_flag  birthdate  ... longitude_gps  latitude_gps  \\\n",
       "0          Good 1972-01-15  ...      3.432010      6.433055   \n",
       "1          Good 1985-08-23  ...      3.885298      7.320700   \n",
       "2          Good 1984-09-18  ...     11.139350     10.292041   \n",
       "3          Good 1977-10-10  ...      3.985770      7.491708   \n",
       "4          Good 1986-09-07  ...      7.457913      9.076574   \n",
       "\n",
       "   bank_name_clients employment_status_clients systemloanid_y  \\\n",
       "0       Diamond Bank                 Permanent           11.0   \n",
       "1            GT Bank                 Permanent            NaN   \n",
       "2            EcoBank                 Permanent            6.0   \n",
       "3         First Bank                 Permanent            2.0   \n",
       "4            GT Bank                 Permanent            8.0   \n",
       "\n",
       "   interest_amount  interest_rate  repayment_ratio  repayment_delay  \\\n",
       "0          42900.0          30.66            13.52            -10.0   \n",
       "1              NaN            NaN              NaN              NaN   \n",
       "2          10500.0          21.90             7.05              5.0   \n",
       "3           4500.0           7.30             2.45             15.0   \n",
       "4          38400.0          21.52            10.07            -25.0   \n",
       "\n",
       "   prevloanamount  \n",
       "0        200000.0  \n",
       "1             NaN  \n",
       "2         60000.0  \n",
       "3         20000.0  \n",
       "4        150000.0  \n",
       "\n",
       "[5 rows x 21 columns]"
      ]
     },
     "execution_count": 83,
     "metadata": {},
     "output_type": "execute_result"
    }
   ],
   "source": [
    "df.head() "
   ]
  },
  {
   "cell_type": "code",
   "execution_count": 84,
   "id": "42aa5d5c-441b-41f5-bac1-bd6d41b1acc3",
   "metadata": {},
   "outputs": [],
   "source": [
    "df.to_csv(\"powerbi worksheet.csv\", index=False) "
   ]
  },
  {
   "cell_type": "code",
   "execution_count": 85,
   "id": "e5c1f58c-f3de-46c9-9b5d-e7ed3d46a76f",
   "metadata": {},
   "outputs": [
    {
     "name": "stdout",
     "output_type": "stream",
     "text": [
      "<class 'pandas.core.frame.DataFrame'>\n",
      "RangeIndex: 4359 entries, 0 to 4358\n",
      "Data columns (total 7 columns):\n",
      " #   Column           Non-Null Count  Dtype  \n",
      "---  ------           --------------  -----  \n",
      " 0   customerid       4359 non-null   object \n",
      " 1   systemloanid     4359 non-null   int64  \n",
      " 2   interest_amount  4359 non-null   float64\n",
      " 3   interest_rate    4359 non-null   float64\n",
      " 4   repayment_ratio  4359 non-null   float64\n",
      " 5   repayment_delay  4359 non-null   int64  \n",
      " 6   prevloanamount   4359 non-null   float64\n",
      "dtypes: float64(4), int64(2), object(1)\n",
      "memory usage: 238.5+ KB\n"
     ]
    }
   ],
   "source": [
    "df_prevloan_agg.info() "
   ]
  },
  {
   "cell_type": "code",
   "execution_count": 86,
   "id": "269c25f9-f1e5-4f28-8afc-eaec9c270e6f",
   "metadata": {},
   "outputs": [
    {
     "name": "stdout",
     "output_type": "stream",
     "text": [
      "<class 'pandas.core.frame.DataFrame'>\n",
      "RangeIndex: 3269 entries, 0 to 3268\n",
      "Data columns (total 21 columns):\n",
      " #   Column                     Non-Null Count  Dtype         \n",
      "---  ------                     --------------  -----         \n",
      " 0   customerid                 3269 non-null   object        \n",
      " 1   systemloanid_x             3269 non-null   int64         \n",
      " 2   loannumber                 3269 non-null   int64         \n",
      " 3   approveddate               3269 non-null   datetime64[ns]\n",
      " 4   creationdate               3269 non-null   datetime64[ns]\n",
      " 5   loanamount                 3269 non-null   float64       \n",
      " 6   totaldue                   3269 non-null   float64       \n",
      " 7   termdays                   3269 non-null   int64         \n",
      " 8   good_bad_flag              3269 non-null   object        \n",
      " 9   birthdate                  3269 non-null   datetime64[ns]\n",
      " 10  bank_account_type          3269 non-null   object        \n",
      " 11  longitude_gps              3269 non-null   float64       \n",
      " 12  latitude_gps               3269 non-null   float64       \n",
      " 13  bank_name_clients          3269 non-null   object        \n",
      " 14  employment_status_clients  3269 non-null   object        \n",
      " 15  systemloanid_y             3264 non-null   float64       \n",
      " 16  interest_amount            3264 non-null   float64       \n",
      " 17  interest_rate              3264 non-null   float64       \n",
      " 18  repayment_ratio            3264 non-null   float64       \n",
      " 19  repayment_delay            3264 non-null   float64       \n",
      " 20  prevloanamount             3264 non-null   float64       \n",
      "dtypes: datetime64[ns](3), float64(10), int64(3), object(5)\n",
      "memory usage: 536.4+ KB\n"
     ]
    }
   ],
   "source": [
    "df.info() "
   ]
  },
  {
   "cell_type": "markdown",
   "id": "22df9392-bcba-405a-9e2d-11eed4b2a67d",
   "metadata": {},
   "source": [
    "# To create customer age using df of customer birthdate and the creation date"
   ]
  },
  {
   "cell_type": "code",
   "execution_count": 88,
   "id": "9a23c519-b092-4ec2-9932-f0bd7f2d63e6",
   "metadata": {},
   "outputs": [],
   "source": [
    "df['customer_age'] = (df['creationdate'] - df['birthdate']).dt.days//365 "
   ]
  },
  {
   "cell_type": "code",
   "execution_count": 89,
   "id": "0db2db7f-f9af-4c38-81eb-9968ce2a8f80",
   "metadata": {},
   "outputs": [
    {
     "data": {
      "text/html": [
       "<div>\n",
       "<style scoped>\n",
       "    .dataframe tbody tr th:only-of-type {\n",
       "        vertical-align: middle;\n",
       "    }\n",
       "\n",
       "    .dataframe tbody tr th {\n",
       "        vertical-align: top;\n",
       "    }\n",
       "\n",
       "    .dataframe thead th {\n",
       "        text-align: right;\n",
       "    }\n",
       "</style>\n",
       "<table border=\"1\" class=\"dataframe\">\n",
       "  <thead>\n",
       "    <tr style=\"text-align: right;\">\n",
       "      <th></th>\n",
       "      <th>customerid</th>\n",
       "      <th>systemloanid_x</th>\n",
       "      <th>loannumber</th>\n",
       "      <th>approveddate</th>\n",
       "      <th>creationdate</th>\n",
       "      <th>loanamount</th>\n",
       "      <th>totaldue</th>\n",
       "      <th>termdays</th>\n",
       "      <th>good_bad_flag</th>\n",
       "      <th>birthdate</th>\n",
       "      <th>...</th>\n",
       "      <th>latitude_gps</th>\n",
       "      <th>bank_name_clients</th>\n",
       "      <th>employment_status_clients</th>\n",
       "      <th>systemloanid_y</th>\n",
       "      <th>interest_amount</th>\n",
       "      <th>interest_rate</th>\n",
       "      <th>repayment_ratio</th>\n",
       "      <th>repayment_delay</th>\n",
       "      <th>prevloanamount</th>\n",
       "      <th>customer_age</th>\n",
       "    </tr>\n",
       "  </thead>\n",
       "  <tbody>\n",
       "    <tr>\n",
       "      <th>0</th>\n",
       "      <td>8a2a81a74ce8c05d014cfb32a0da1049</td>\n",
       "      <td>301994762</td>\n",
       "      <td>12</td>\n",
       "      <td>2017-07-25 08:22:56</td>\n",
       "      <td>2017-07-25 07:22:47</td>\n",
       "      <td>30000.0</td>\n",
       "      <td>34500.0</td>\n",
       "      <td>30</td>\n",
       "      <td>Good</td>\n",
       "      <td>1972-01-15</td>\n",
       "      <td>...</td>\n",
       "      <td>6.433055</td>\n",
       "      <td>Diamond Bank</td>\n",
       "      <td>Permanent</td>\n",
       "      <td>11.0</td>\n",
       "      <td>42900.0</td>\n",
       "      <td>30.66</td>\n",
       "      <td>13.52</td>\n",
       "      <td>-10.0</td>\n",
       "      <td>200000.0</td>\n",
       "      <td>45</td>\n",
       "    </tr>\n",
       "    <tr>\n",
       "      <th>1</th>\n",
       "      <td>8a85886e54beabf90154c0a29ae757c0</td>\n",
       "      <td>301965204</td>\n",
       "      <td>2</td>\n",
       "      <td>2017-07-05 17:04:41</td>\n",
       "      <td>2017-07-05 16:04:18</td>\n",
       "      <td>15000.0</td>\n",
       "      <td>17250.0</td>\n",
       "      <td>30</td>\n",
       "      <td>Good</td>\n",
       "      <td>1985-08-23</td>\n",
       "      <td>...</td>\n",
       "      <td>7.320700</td>\n",
       "      <td>GT Bank</td>\n",
       "      <td>Permanent</td>\n",
       "      <td>NaN</td>\n",
       "      <td>NaN</td>\n",
       "      <td>NaN</td>\n",
       "      <td>NaN</td>\n",
       "      <td>NaN</td>\n",
       "      <td>NaN</td>\n",
       "      <td>31</td>\n",
       "    </tr>\n",
       "    <tr>\n",
       "      <th>2</th>\n",
       "      <td>8a8588f35438fe12015444567666018e</td>\n",
       "      <td>301966580</td>\n",
       "      <td>7</td>\n",
       "      <td>2017-07-06 14:52:57</td>\n",
       "      <td>2017-07-06 13:52:51</td>\n",
       "      <td>20000.0</td>\n",
       "      <td>22250.0</td>\n",
       "      <td>15</td>\n",
       "      <td>Good</td>\n",
       "      <td>1984-09-18</td>\n",
       "      <td>...</td>\n",
       "      <td>10.292041</td>\n",
       "      <td>EcoBank</td>\n",
       "      <td>Permanent</td>\n",
       "      <td>6.0</td>\n",
       "      <td>10500.0</td>\n",
       "      <td>21.90</td>\n",
       "      <td>7.05</td>\n",
       "      <td>5.0</td>\n",
       "      <td>60000.0</td>\n",
       "      <td>32</td>\n",
       "    </tr>\n",
       "    <tr>\n",
       "      <th>3</th>\n",
       "      <td>8a85890754145ace015429211b513e16</td>\n",
       "      <td>301999343</td>\n",
       "      <td>3</td>\n",
       "      <td>2017-07-27 19:00:41</td>\n",
       "      <td>2017-07-27 18:00:35</td>\n",
       "      <td>10000.0</td>\n",
       "      <td>11500.0</td>\n",
       "      <td>15</td>\n",
       "      <td>Good</td>\n",
       "      <td>1977-10-10</td>\n",
       "      <td>...</td>\n",
       "      <td>7.491708</td>\n",
       "      <td>First Bank</td>\n",
       "      <td>Permanent</td>\n",
       "      <td>2.0</td>\n",
       "      <td>4500.0</td>\n",
       "      <td>7.30</td>\n",
       "      <td>2.45</td>\n",
       "      <td>15.0</td>\n",
       "      <td>20000.0</td>\n",
       "      <td>39</td>\n",
       "    </tr>\n",
       "    <tr>\n",
       "      <th>4</th>\n",
       "      <td>8a858970548359cc0154883481981866</td>\n",
       "      <td>301962360</td>\n",
       "      <td>9</td>\n",
       "      <td>2017-07-03 23:42:45</td>\n",
       "      <td>2017-07-03 22:42:39</td>\n",
       "      <td>40000.0</td>\n",
       "      <td>44000.0</td>\n",
       "      <td>30</td>\n",
       "      <td>Good</td>\n",
       "      <td>1986-09-07</td>\n",
       "      <td>...</td>\n",
       "      <td>9.076574</td>\n",
       "      <td>GT Bank</td>\n",
       "      <td>Permanent</td>\n",
       "      <td>8.0</td>\n",
       "      <td>38400.0</td>\n",
       "      <td>21.52</td>\n",
       "      <td>10.07</td>\n",
       "      <td>-25.0</td>\n",
       "      <td>150000.0</td>\n",
       "      <td>30</td>\n",
       "    </tr>\n",
       "  </tbody>\n",
       "</table>\n",
       "<p>5 rows × 22 columns</p>\n",
       "</div>"
      ],
      "text/plain": [
       "                         customerid  systemloanid_x  loannumber  \\\n",
       "0  8a2a81a74ce8c05d014cfb32a0da1049       301994762          12   \n",
       "1  8a85886e54beabf90154c0a29ae757c0       301965204           2   \n",
       "2  8a8588f35438fe12015444567666018e       301966580           7   \n",
       "3  8a85890754145ace015429211b513e16       301999343           3   \n",
       "4  8a858970548359cc0154883481981866       301962360           9   \n",
       "\n",
       "         approveddate        creationdate  loanamount  totaldue  termdays  \\\n",
       "0 2017-07-25 08:22:56 2017-07-25 07:22:47     30000.0   34500.0        30   \n",
       "1 2017-07-05 17:04:41 2017-07-05 16:04:18     15000.0   17250.0        30   \n",
       "2 2017-07-06 14:52:57 2017-07-06 13:52:51     20000.0   22250.0        15   \n",
       "3 2017-07-27 19:00:41 2017-07-27 18:00:35     10000.0   11500.0        15   \n",
       "4 2017-07-03 23:42:45 2017-07-03 22:42:39     40000.0   44000.0        30   \n",
       "\n",
       "  good_bad_flag  birthdate  ... latitude_gps  bank_name_clients  \\\n",
       "0          Good 1972-01-15  ...     6.433055       Diamond Bank   \n",
       "1          Good 1985-08-23  ...     7.320700            GT Bank   \n",
       "2          Good 1984-09-18  ...    10.292041            EcoBank   \n",
       "3          Good 1977-10-10  ...     7.491708         First Bank   \n",
       "4          Good 1986-09-07  ...     9.076574            GT Bank   \n",
       "\n",
       "   employment_status_clients systemloanid_y interest_amount  interest_rate  \\\n",
       "0                  Permanent           11.0         42900.0          30.66   \n",
       "1                  Permanent            NaN             NaN            NaN   \n",
       "2                  Permanent            6.0         10500.0          21.90   \n",
       "3                  Permanent            2.0          4500.0           7.30   \n",
       "4                  Permanent            8.0         38400.0          21.52   \n",
       "\n",
       "   repayment_ratio  repayment_delay  prevloanamount  customer_age  \n",
       "0            13.52            -10.0        200000.0            45  \n",
       "1              NaN              NaN             NaN            31  \n",
       "2             7.05              5.0         60000.0            32  \n",
       "3             2.45             15.0         20000.0            39  \n",
       "4            10.07            -25.0        150000.0            30  \n",
       "\n",
       "[5 rows x 22 columns]"
      ]
     },
     "execution_count": 89,
     "metadata": {},
     "output_type": "execute_result"
    }
   ],
   "source": [
    "df.head() "
   ]
  },
  {
   "cell_type": "code",
   "execution_count": 90,
   "id": "87550172-8172-4bce-b63e-accb635bf0c8",
   "metadata": {},
   "outputs": [
    {
     "data": {
      "text/plain": [
       "customerid                   0\n",
       "systemloanid_x               0\n",
       "loannumber                   0\n",
       "approveddate                 0\n",
       "creationdate                 0\n",
       "loanamount                   0\n",
       "totaldue                     0\n",
       "termdays                     0\n",
       "good_bad_flag                0\n",
       "birthdate                    0\n",
       "bank_account_type            0\n",
       "longitude_gps                0\n",
       "latitude_gps                 0\n",
       "bank_name_clients            0\n",
       "employment_status_clients    0\n",
       "systemloanid_y               5\n",
       "interest_amount              5\n",
       "interest_rate                5\n",
       "repayment_ratio              5\n",
       "repayment_delay              5\n",
       "prevloanamount               5\n",
       "customer_age                 0\n",
       "dtype: int64"
      ]
     },
     "execution_count": 90,
     "metadata": {},
     "output_type": "execute_result"
    }
   ],
   "source": [
    "df.isna().sum() "
   ]
  },
  {
   "cell_type": "code",
   "execution_count": 91,
   "id": "b469254b-2bc2-4fc7-98b6-f2c592d1aaee",
   "metadata": {},
   "outputs": [],
   "source": [
    "df.dropna(inplace=True) "
   ]
  },
  {
   "cell_type": "code",
   "execution_count": 92,
   "id": "2b67e52d-2c85-4b22-ab94-d0b0dd896b47",
   "metadata": {},
   "outputs": [
    {
     "data": {
      "text/plain": [
       "Index(['customerid', 'systemloanid_x', 'loannumber', 'approveddate',\n",
       "       'creationdate', 'loanamount', 'totaldue', 'termdays', 'good_bad_flag',\n",
       "       'birthdate', 'bank_account_type', 'longitude_gps', 'latitude_gps',\n",
       "       'bank_name_clients', 'employment_status_clients', 'systemloanid_y',\n",
       "       'interest_amount', 'interest_rate', 'repayment_ratio',\n",
       "       'repayment_delay', 'prevloanamount', 'customer_age'],\n",
       "      dtype='object')"
      ]
     },
     "execution_count": 92,
     "metadata": {},
     "output_type": "execute_result"
    }
   ],
   "source": [
    "df.columns "
   ]
  },
  {
   "cell_type": "code",
   "execution_count": 93,
   "id": "a53ccc51-beb4-4077-81d2-8211da2f702d",
   "metadata": {},
   "outputs": [],
   "source": [
    "df.drop(['customerid', 'systemloanid_x', 'systemloanid_y', 'longitude_gps', 'latitude_gps', 'approveddate', 'creationdate', 'birthdate'], axis=1, inplace=True) "
   ]
  },
  {
   "cell_type": "code",
   "execution_count": 94,
   "id": "67e22c5d-c03b-4404-a660-1e10bf35804e",
   "metadata": {},
   "outputs": [
    {
     "name": "stdout",
     "output_type": "stream",
     "text": [
      "<class 'pandas.core.frame.DataFrame'>\n",
      "Index: 3264 entries, 0 to 3268\n",
      "Data columns (total 14 columns):\n",
      " #   Column                     Non-Null Count  Dtype  \n",
      "---  ------                     --------------  -----  \n",
      " 0   loannumber                 3264 non-null   int64  \n",
      " 1   loanamount                 3264 non-null   float64\n",
      " 2   totaldue                   3264 non-null   float64\n",
      " 3   termdays                   3264 non-null   int64  \n",
      " 4   good_bad_flag              3264 non-null   object \n",
      " 5   bank_account_type          3264 non-null   object \n",
      " 6   bank_name_clients          3264 non-null   object \n",
      " 7   employment_status_clients  3264 non-null   object \n",
      " 8   interest_amount            3264 non-null   float64\n",
      " 9   interest_rate              3264 non-null   float64\n",
      " 10  repayment_ratio            3264 non-null   float64\n",
      " 11  repayment_delay            3264 non-null   float64\n",
      " 12  prevloanamount             3264 non-null   float64\n",
      " 13  customer_age               3264 non-null   int64  \n",
      "dtypes: float64(7), int64(3), object(4)\n",
      "memory usage: 382.5+ KB\n"
     ]
    }
   ],
   "source": [
    "df.info() "
   ]
  },
  {
   "cell_type": "markdown",
   "id": "d9e594f8-390c-48e6-b0f6-74f7354807ca",
   "metadata": {},
   "source": [
    "# To seperate our data into categorical and numerical features "
   ]
  },
  {
   "cell_type": "code",
   "execution_count": 96,
   "id": "f1cbee61-8c7e-43c0-92b4-1cd2c38cff38",
   "metadata": {},
   "outputs": [],
   "source": [
    "cat_col = df.select_dtypes(exclude= 'number').columns.to_list()\n",
    "num_col = df.select_dtypes(include= 'number').columns.to_list() "
   ]
  },
  {
   "cell_type": "markdown",
   "id": "a87dbe80-3ec3-4cfa-945e-47b5edc5d877",
   "metadata": {},
   "source": [
    "# descriptive statistics on the num_cols"
   ]
  },
  {
   "cell_type": "code",
   "execution_count": 98,
   "id": "bd9049dd-d266-4621-9112-99f1ae94a7d2",
   "metadata": {},
   "outputs": [
    {
     "data": {
      "text/html": [
       "<div>\n",
       "<style scoped>\n",
       "    .dataframe tbody tr th:only-of-type {\n",
       "        vertical-align: middle;\n",
       "    }\n",
       "\n",
       "    .dataframe tbody tr th {\n",
       "        vertical-align: top;\n",
       "    }\n",
       "\n",
       "    .dataframe thead th {\n",
       "        text-align: right;\n",
       "    }\n",
       "</style>\n",
       "<table border=\"1\" class=\"dataframe\">\n",
       "  <thead>\n",
       "    <tr style=\"text-align: right;\">\n",
       "      <th></th>\n",
       "      <th>count</th>\n",
       "      <th>mean</th>\n",
       "      <th>std</th>\n",
       "      <th>min</th>\n",
       "      <th>25%</th>\n",
       "      <th>50%</th>\n",
       "      <th>75%</th>\n",
       "      <th>max</th>\n",
       "    </tr>\n",
       "  </thead>\n",
       "  <tbody>\n",
       "    <tr>\n",
       "      <th>loannumber</th>\n",
       "      <td>3264.0</td>\n",
       "      <td>5.0</td>\n",
       "      <td>4.0</td>\n",
       "      <td>2.0</td>\n",
       "      <td>2.0</td>\n",
       "      <td>4.0</td>\n",
       "      <td>7.0</td>\n",
       "      <td>27.0</td>\n",
       "    </tr>\n",
       "    <tr>\n",
       "      <th>loanamount</th>\n",
       "      <td>3264.0</td>\n",
       "      <td>17842.0</td>\n",
       "      <td>10746.0</td>\n",
       "      <td>10000.0</td>\n",
       "      <td>10000.0</td>\n",
       "      <td>10000.0</td>\n",
       "      <td>20000.0</td>\n",
       "      <td>60000.0</td>\n",
       "    </tr>\n",
       "    <tr>\n",
       "      <th>totaldue</th>\n",
       "      <td>3264.0</td>\n",
       "      <td>21291.0</td>\n",
       "      <td>11931.0</td>\n",
       "      <td>10000.0</td>\n",
       "      <td>13000.0</td>\n",
       "      <td>13000.0</td>\n",
       "      <td>24500.0</td>\n",
       "      <td>68100.0</td>\n",
       "    </tr>\n",
       "    <tr>\n",
       "      <th>termdays</th>\n",
       "      <td>3264.0</td>\n",
       "      <td>29.0</td>\n",
       "      <td>11.0</td>\n",
       "      <td>15.0</td>\n",
       "      <td>30.0</td>\n",
       "      <td>30.0</td>\n",
       "      <td>30.0</td>\n",
       "      <td>90.0</td>\n",
       "    </tr>\n",
       "    <tr>\n",
       "      <th>interest_amount</th>\n",
       "      <td>3264.0</td>\n",
       "      <td>12904.0</td>\n",
       "      <td>14034.0</td>\n",
       "      <td>750.0</td>\n",
       "      <td>3000.0</td>\n",
       "      <td>6000.0</td>\n",
       "      <td>18000.0</td>\n",
       "      <td>96300.0</td>\n",
       "    </tr>\n",
       "    <tr>\n",
       "      <th>interest_rate</th>\n",
       "      <td>3264.0</td>\n",
       "      <td>12.0</td>\n",
       "      <td>9.0</td>\n",
       "      <td>2.0</td>\n",
       "      <td>4.0</td>\n",
       "      <td>11.0</td>\n",
       "      <td>19.0</td>\n",
       "      <td>53.0</td>\n",
       "    </tr>\n",
       "    <tr>\n",
       "      <th>repayment_ratio</th>\n",
       "      <td>3264.0</td>\n",
       "      <td>5.0</td>\n",
       "      <td>4.0</td>\n",
       "      <td>1.0</td>\n",
       "      <td>1.0</td>\n",
       "      <td>4.0</td>\n",
       "      <td>8.0</td>\n",
       "      <td>29.0</td>\n",
       "    </tr>\n",
       "    <tr>\n",
       "      <th>repayment_delay</th>\n",
       "      <td>3264.0</td>\n",
       "      <td>-10.0</td>\n",
       "      <td>30.0</td>\n",
       "      <td>-386.0</td>\n",
       "      <td>-18.0</td>\n",
       "      <td>-6.0</td>\n",
       "      <td>0.0</td>\n",
       "      <td>363.0</td>\n",
       "    </tr>\n",
       "    <tr>\n",
       "      <th>prevloanamount</th>\n",
       "      <td>3264.0</td>\n",
       "      <td>69413.0</td>\n",
       "      <td>89964.0</td>\n",
       "      <td>5000.0</td>\n",
       "      <td>10000.0</td>\n",
       "      <td>30000.0</td>\n",
       "      <td>90000.0</td>\n",
       "      <td>770000.0</td>\n",
       "    </tr>\n",
       "    <tr>\n",
       "      <th>customer_age</th>\n",
       "      <td>3264.0</td>\n",
       "      <td>32.0</td>\n",
       "      <td>6.0</td>\n",
       "      <td>21.0</td>\n",
       "      <td>28.0</td>\n",
       "      <td>32.0</td>\n",
       "      <td>36.0</td>\n",
       "      <td>55.0</td>\n",
       "    </tr>\n",
       "  </tbody>\n",
       "</table>\n",
       "</div>"
      ],
      "text/plain": [
       "                  count     mean      std      min      25%      50%      75%  \\\n",
       "loannumber       3264.0      5.0      4.0      2.0      2.0      4.0      7.0   \n",
       "loanamount       3264.0  17842.0  10746.0  10000.0  10000.0  10000.0  20000.0   \n",
       "totaldue         3264.0  21291.0  11931.0  10000.0  13000.0  13000.0  24500.0   \n",
       "termdays         3264.0     29.0     11.0     15.0     30.0     30.0     30.0   \n",
       "interest_amount  3264.0  12904.0  14034.0    750.0   3000.0   6000.0  18000.0   \n",
       "interest_rate    3264.0     12.0      9.0      2.0      4.0     11.0     19.0   \n",
       "repayment_ratio  3264.0      5.0      4.0      1.0      1.0      4.0      8.0   \n",
       "repayment_delay  3264.0    -10.0     30.0   -386.0    -18.0     -6.0      0.0   \n",
       "prevloanamount   3264.0  69413.0  89964.0   5000.0  10000.0  30000.0  90000.0   \n",
       "customer_age     3264.0     32.0      6.0     21.0     28.0     32.0     36.0   \n",
       "\n",
       "                      max  \n",
       "loannumber           27.0  \n",
       "loanamount        60000.0  \n",
       "totaldue          68100.0  \n",
       "termdays             90.0  \n",
       "interest_amount   96300.0  \n",
       "interest_rate        53.0  \n",
       "repayment_ratio      29.0  \n",
       "repayment_delay     363.0  \n",
       "prevloanamount   770000.0  \n",
       "customer_age         55.0  "
      ]
     },
     "execution_count": 98,
     "metadata": {},
     "output_type": "execute_result"
    }
   ],
   "source": [
    "df[num_col].describe().T.round() "
   ]
  },
  {
   "cell_type": "markdown",
   "id": "d9b2f2ac-63b5-40a8-a250-f8758058d76d",
   "metadata": {},
   "source": [
    "# Data Visualization "
   ]
  },
  {
   "cell_type": "code",
   "execution_count": 227,
   "id": "39433fc0-4275-4051-93ca-a5f432e3be2b",
   "metadata": {},
   "outputs": [
    {
     "data": {
      "image/png": "[encoded data removed]",
      "text/plain": [
       "<Figure size 800x300 with 2 Axes>"
      ]
     },
     "metadata": {},
     "output_type": "display_data"
    },
    {
     "data": {
      "image/png": "[encoded data removed]",
      "text/plain": [
       "<Figure size 800x300 with 2 Axes>"
      ]
     },
     "metadata": {},
     "output_type": "display_data"
    },
    {
     "data": {
      "image/png": "[encoded data removed]",
      "text/plain": [
       "<Figure size 800x300 with 2 Axes>"
      ]
     },
     "metadata": {},
     "output_type": "display_data"
    },
    {
     "data": {
      "image/png": "[encoded data removed]",
      "text/plain": [
       "<Figure size 800x300 with 2 Axes>"
      ]
     },
     "metadata": {},
     "output_type": "display_data"
    },
    {
     "data": {
      "image/png": "[encoded data removed]",
      "text/plain": [
       "<Figure size 800x300 with 2 Axes>"
      ]
     },
     "metadata": {},
     "output_type": "display_data"
    },
    {
     "data": {
      "image/png": "[encoded data removed]",
      "text/plain": [
       "<Figure size 800x300 with 2 Axes>"
      ]
     },
     "metadata": {},
     "output_type": "display_data"
    },
    {
     "data": {
      "image/png": "[encoded data removed]",
      "text/plain": [
       "<Figure size 800x300 with 2 Axes>"
      ]
     },
     "metadata": {},
     "output_type": "display_data"
    },
    {
     "data": {
      "image/png": "[encoded data removed]",
      "text/plain": [
       "<Figure size 800x300 with 2 Axes>"
      ]
     },
     "metadata": {},
     "output_type": "display_data"
    },
    {
     "data": {
      "image/png": "[encoded data removed]",
      "text/plain": [
       "<Figure size 800x300 with 2 Axes>"
      ]
     },
     "metadata": {},
     "output_type": "display_data"
    },
    {
     "data": {
      "image/png": "[encoded data removed]",
      "text/plain": [
       "<Figure size 800x300 with 2 Axes>"
      ]
     },
     "metadata": {},
     "output_type": "display_data"
    }
   ],
   "source": [
    "for col in num_col:\n",
    "    plt.figure(figsize=(8, 3))\n",
    "    plt.subplot(1, 2, 1)\n",
    "    sns.histplot(df[col], kde=True, bins=20)\n",
    "    plt.title(f'{col} distribution') \n",
    "    plt.xlabel(f'{col}')\n",
    "\n",
    "    plt.subplot(1, 2, 2)\n",
    "    sns.boxplot(x= df[col], color='lightgreen')\n",
    "    plt.title(f'{col} boxplot')\n",
    "    plt.xlabel(f'{col}') \n",
    "\n",
    "    plt.tight_layout()\n",
    "    plt.show()  "
   ]
  },
  {
   "cell_type": "markdown",
   "id": "eb80cf4f-2305-4987-bf75-62a930f3e7e2",
   "metadata": {},
   "source": [
    "# Correlation Matrix "
   ]
  },
  {
   "cell_type": "code",
   "execution_count": 102,
   "id": "8d3efda4-78dd-4bff-b230-b8f3484c2a6b",
   "metadata": {},
   "outputs": [
    {
     "data": {
      "text/html": [
       "<div>\n",
       "<style scoped>\n",
       "    .dataframe tbody tr th:only-of-type {\n",
       "        vertical-align: middle;\n",
       "    }\n",
       "\n",
       "    .dataframe tbody tr th {\n",
       "        vertical-align: top;\n",
       "    }\n",
       "\n",
       "    .dataframe thead th {\n",
       "        text-align: right;\n",
       "    }\n",
       "</style>\n",
       "<table border=\"1\" class=\"dataframe\">\n",
       "  <thead>\n",
       "    <tr style=\"text-align: right;\">\n",
       "      <th></th>\n",
       "      <th>loannumber</th>\n",
       "      <th>loanamount</th>\n",
       "      <th>totaldue</th>\n",
       "      <th>termdays</th>\n",
       "      <th>interest_amount</th>\n",
       "      <th>interest_rate</th>\n",
       "      <th>repayment_ratio</th>\n",
       "      <th>repayment_delay</th>\n",
       "      <th>prevloanamount</th>\n",
       "      <th>customer_age</th>\n",
       "    </tr>\n",
       "  </thead>\n",
       "  <tbody>\n",
       "    <tr>\n",
       "      <th>loannumber</th>\n",
       "      <td>1.000000</td>\n",
       "      <td>0.834948</td>\n",
       "      <td>0.816573</td>\n",
       "      <td>0.399014</td>\n",
       "      <td>0.941155</td>\n",
       "      <td>0.961102</td>\n",
       "      <td>0.998079</td>\n",
       "      <td>-0.417664</td>\n",
       "      <td>0.946384</td>\n",
       "      <td>-0.006417</td>\n",
       "    </tr>\n",
       "    <tr>\n",
       "      <th>loanamount</th>\n",
       "      <td>0.834948</td>\n",
       "      <td>1.000000</td>\n",
       "      <td>0.994321</td>\n",
       "      <td>0.550469</td>\n",
       "      <td>0.861611</td>\n",
       "      <td>0.749560</td>\n",
       "      <td>0.831958</td>\n",
       "      <td>-0.472023</td>\n",
       "      <td>0.854327</td>\n",
       "      <td>0.013702</td>\n",
       "    </tr>\n",
       "    <tr>\n",
       "      <th>totaldue</th>\n",
       "      <td>0.816573</td>\n",
       "      <td>0.994321</td>\n",
       "      <td>1.000000</td>\n",
       "      <td>0.620590</td>\n",
       "      <td>0.849941</td>\n",
       "      <td>0.739130</td>\n",
       "      <td>0.816080</td>\n",
       "      <td>-0.458633</td>\n",
       "      <td>0.828710</td>\n",
       "      <td>0.016523</td>\n",
       "    </tr>\n",
       "    <tr>\n",
       "      <th>termdays</th>\n",
       "      <td>0.399014</td>\n",
       "      <td>0.550469</td>\n",
       "      <td>0.620590</td>\n",
       "      <td>1.000000</td>\n",
       "      <td>0.518437</td>\n",
       "      <td>0.342979</td>\n",
       "      <td>0.414022</td>\n",
       "      <td>-0.242095</td>\n",
       "      <td>0.420859</td>\n",
       "      <td>-0.007343</td>\n",
       "    </tr>\n",
       "    <tr>\n",
       "      <th>interest_amount</th>\n",
       "      <td>0.941155</td>\n",
       "      <td>0.861611</td>\n",
       "      <td>0.849941</td>\n",
       "      <td>0.518437</td>\n",
       "      <td>1.000000</td>\n",
       "      <td>0.856242</td>\n",
       "      <td>0.948343</td>\n",
       "      <td>-0.414058</td>\n",
       "      <td>0.958143</td>\n",
       "      <td>0.001374</td>\n",
       "    </tr>\n",
       "    <tr>\n",
       "      <th>interest_rate</th>\n",
       "      <td>0.961102</td>\n",
       "      <td>0.749560</td>\n",
       "      <td>0.739130</td>\n",
       "      <td>0.342979</td>\n",
       "      <td>0.856242</td>\n",
       "      <td>1.000000</td>\n",
       "      <td>0.966649</td>\n",
       "      <td>-0.319490</td>\n",
       "      <td>0.828827</td>\n",
       "      <td>-0.009641</td>\n",
       "    </tr>\n",
       "    <tr>\n",
       "      <th>repayment_ratio</th>\n",
       "      <td>0.998079</td>\n",
       "      <td>0.831958</td>\n",
       "      <td>0.816080</td>\n",
       "      <td>0.414022</td>\n",
       "      <td>0.948343</td>\n",
       "      <td>0.966649</td>\n",
       "      <td>1.000000</td>\n",
       "      <td>-0.406603</td>\n",
       "      <td>0.938187</td>\n",
       "      <td>-0.006553</td>\n",
       "    </tr>\n",
       "    <tr>\n",
       "      <th>repayment_delay</th>\n",
       "      <td>-0.417664</td>\n",
       "      <td>-0.472023</td>\n",
       "      <td>-0.458633</td>\n",
       "      <td>-0.242095</td>\n",
       "      <td>-0.414058</td>\n",
       "      <td>-0.319490</td>\n",
       "      <td>-0.406603</td>\n",
       "      <td>1.000000</td>\n",
       "      <td>-0.469774</td>\n",
       "      <td>-0.001212</td>\n",
       "    </tr>\n",
       "    <tr>\n",
       "      <th>prevloanamount</th>\n",
       "      <td>0.946384</td>\n",
       "      <td>0.854327</td>\n",
       "      <td>0.828710</td>\n",
       "      <td>0.420859</td>\n",
       "      <td>0.958143</td>\n",
       "      <td>0.828827</td>\n",
       "      <td>0.938187</td>\n",
       "      <td>-0.469774</td>\n",
       "      <td>1.000000</td>\n",
       "      <td>0.002539</td>\n",
       "    </tr>\n",
       "    <tr>\n",
       "      <th>customer_age</th>\n",
       "      <td>-0.006417</td>\n",
       "      <td>0.013702</td>\n",
       "      <td>0.016523</td>\n",
       "      <td>-0.007343</td>\n",
       "      <td>0.001374</td>\n",
       "      <td>-0.009641</td>\n",
       "      <td>-0.006553</td>\n",
       "      <td>-0.001212</td>\n",
       "      <td>0.002539</td>\n",
       "      <td>1.000000</td>\n",
       "    </tr>\n",
       "  </tbody>\n",
       "</table>\n",
       "</div>"
      ],
      "text/plain": [
       "                 loannumber  loanamount  totaldue  termdays  interest_amount  \\\n",
       "loannumber         1.000000    0.834948  0.816573  0.399014         0.941155   \n",
       "loanamount         0.834948    1.000000  0.994321  0.550469         0.861611   \n",
       "totaldue           0.816573    0.994321  1.000000  0.620590         0.849941   \n",
       "termdays           0.399014    0.550469  0.620590  1.000000         0.518437   \n",
       "interest_amount    0.941155    0.861611  0.849941  0.518437         1.000000   \n",
       "interest_rate      0.961102    0.749560  0.739130  0.342979         0.856242   \n",
       "repayment_ratio    0.998079    0.831958  0.816080  0.414022         0.948343   \n",
       "repayment_delay   -0.417664   -0.472023 -0.458633 -0.242095        -0.414058   \n",
       "prevloanamount     0.946384    0.854327  0.828710  0.420859         0.958143   \n",
       "customer_age      -0.006417    0.013702  0.016523 -0.007343         0.001374   \n",
       "\n",
       "                 interest_rate  repayment_ratio  repayment_delay  \\\n",
       "loannumber            0.961102         0.998079        -0.417664   \n",
       "loanamount            0.749560         0.831958        -0.472023   \n",
       "totaldue              0.739130         0.816080        -0.458633   \n",
       "termdays              0.342979         0.414022        -0.242095   \n",
       "interest_amount       0.856242         0.948343        -0.414058   \n",
       "interest_rate         1.000000         0.966649        -0.319490   \n",
       "repayment_ratio       0.966649         1.000000        -0.406603   \n",
       "repayment_delay      -0.319490        -0.406603         1.000000   \n",
       "prevloanamount        0.828827         0.938187        -0.469774   \n",
       "customer_age         -0.009641        -0.006553        -0.001212   \n",
       "\n",
       "                 prevloanamount  customer_age  \n",
       "loannumber             0.946384     -0.006417  \n",
       "loanamount             0.854327      0.013702  \n",
       "totaldue               0.828710      0.016523  \n",
       "termdays               0.420859     -0.007343  \n",
       "interest_amount        0.958143      0.001374  \n",
       "interest_rate          0.828827     -0.009641  \n",
       "repayment_ratio        0.938187     -0.006553  \n",
       "repayment_delay       -0.469774     -0.001212  \n",
       "prevloanamount         1.000000      0.002539  \n",
       "customer_age           0.002539      1.000000  "
      ]
     },
     "execution_count": 102,
     "metadata": {},
     "output_type": "execute_result"
    }
   ],
   "source": [
    "corr_matrix = df[num_col].corr() \n",
    "corr_matrix "
   ]
  },
  {
   "cell_type": "code",
   "execution_count": 103,
   "id": "0e53510b-17b5-4c4d-9a5e-aa9753cc1381",
   "metadata": {},
   "outputs": [
    {
     "data": {
      "text/plain": [
       "<Axes: >"
      ]
     },
     "execution_count": 103,
     "metadata": {},
     "output_type": "execute_result"
    },
    {
     "data": {
      "image/png": "[encoded data removed]",
      "text/plain": [
       "<Figure size 1200x600 with 2 Axes>"
      ]
     },
     "metadata": {},
     "output_type": "display_data"
    }
   ],
   "source": [
    "plt.figure(figsize = (12,6))\n",
    "sns.heatmap(corr_matrix, annot=True, cmap='coolwarm') "
   ]
  },
  {
   "cell_type": "code",
   "execution_count": 104,
   "id": "40227bb2-39f9-4293-9563-a6d5ca270556",
   "metadata": {},
   "outputs": [
    {
     "data": {
      "text/plain": [
       "4"
      ]
     },
     "execution_count": 104,
     "metadata": {},
     "output_type": "execute_result"
    }
   ],
   "source": [
    "len(cat_col) "
   ]
  },
  {
   "cell_type": "code",
   "execution_count": 105,
   "id": "40f5acfb-5576-4a16-8117-b3b25cd3e527",
   "metadata": {},
   "outputs": [
    {
     "data": {
      "image/png": "[encoded data removed]",
      "text/plain": [
       "<Figure size 1200x800 with 4 Axes>"
      ]
     },
     "metadata": {},
     "output_type": "display_data"
    }
   ],
   "source": [
    "# visualizing for the categorical features\n",
    "fig, ax=plt.subplots (2, 2, figsize= (12, 8)) \n",
    "axes =  ax.flatten() \n",
    "for i,  col in enumerate(cat_col):\n",
    "    order = df[col].value_counts().index\n",
    "    sns.countplot(x=df[col], ax=axes[i], order=order)\n",
    "    axes[i].set_title(f'{col}', fontsize=14)\n",
    "    axes[i].tick_params(axis='x', rotation=45) \n",
    "\n",
    "plt.tight_layout()\n",
    "plt.show() "
   ]
  },
  {
   "cell_type": "markdown",
   "id": "74b049e0-4cca-4d37-80d5-5f83d9fcb35b",
   "metadata": {},
   "source": [
    "# Splitting the data into features and targets "
   ]
  },
  {
   "cell_type": "code",
   "execution_count": 107,
   "id": "c45882ed-491b-458c-b83a-d26928450f7c",
   "metadata": {},
   "outputs": [],
   "source": [
    "x = df.drop(['good_bad_flag'], axis=1)\n",
    "y = df['good_bad_flag'] "
   ]
  },
  {
   "cell_type": "markdown",
   "id": "61bda09f-300e-4022-8dd1-8ea30752fa62",
   "metadata": {},
   "source": [
    "# To resplit the num and cat features again "
   ]
  },
  {
   "cell_type": "code",
   "execution_count": 109,
   "id": "25824f0f-3f94-4af0-918e-9e394a56abac",
   "metadata": {},
   "outputs": [],
   "source": [
    "cat_col = x.select_dtypes(exclude='number').columns.to_list()\n",
    "num_col = x.select_dtypes(include='number').columns.to_list()  "
   ]
  },
  {
   "cell_type": "code",
   "execution_count": 110,
   "id": "fd5e1e57-d83f-45c3-92c0-8bb76d1e84e1",
   "metadata": {},
   "outputs": [
    {
     "data": {
      "text/plain": [
       "Index(['loannumber', 'loanamount', 'totaldue', 'termdays', 'bank_account_type',\n",
       "       'bank_name_clients', 'employment_status_clients', 'interest_amount',\n",
       "       'interest_rate', 'repayment_ratio', 'repayment_delay', 'prevloanamount',\n",
       "       'customer_age'],\n",
       "      dtype='object')"
      ]
     },
     "execution_count": 110,
     "metadata": {},
     "output_type": "execute_result"
    }
   ],
   "source": [
    "x.columns "
   ]
  },
  {
   "cell_type": "code",
   "execution_count": 111,
   "id": "53b2ee39-a525-45e6-873e-90a6a0455f6e",
   "metadata": {},
   "outputs": [],
   "source": [
    "le = LabelEncoder()\n",
    "y = le.fit_transform(df['good_bad_flag'])  "
   ]
  },
  {
   "cell_type": "markdown",
   "id": "87ba82be-ef38-4ebf-9661-8e960a96d0fb",
   "metadata": {},
   "source": [
    "Splitting the data set "
   ]
  },
  {
   "cell_type": "code",
   "execution_count": 113,
   "id": "33f31571-d313-41bc-b41d-81950ce65ee1",
   "metadata": {},
   "outputs": [],
   "source": [
    "x_train, x_test, y_train, y_test = train_test_split(x,y, test_size=0.2, random_state=42, stratify=y) "
   ]
  },
  {
   "cell_type": "markdown",
   "id": "5e115ea2-4c87-4194-b036-8eab57d8782e",
   "metadata": {},
   "source": [
    "# Pipelines "
   ]
  },
  {
   "cell_type": "code",
   "execution_count": 115,
   "id": "86cd1d6f-8a59-4900-8678-28fe1f8c838c",
   "metadata": {},
   "outputs": [],
   "source": [
    "num_pipeline = Pipeline(steps=[\n",
    "    ('scaler', StandardScaler())\n",
    "])\n",
    "\n",
    "cat_pipeline = Pipeline(steps=[\n",
    "('encoder', OneHotEncoder(sparse_output=False, handle_unknown='ignore', drop='first'))\n",
    "])\n",
    "\n",
    "preprocessors = ColumnTransformer(transformers= [\n",
    "    ('num', num_pipeline, num_col),\n",
    "    ('cat', cat_pipeline, cat_col), \n",
    "])  "
   ]
  },
  {
   "cell_type": "code",
   "execution_count": 116,
   "id": "457d4001-8fce-4faf-8cb9-2f12991c0f20",
   "metadata": {},
   "outputs": [
    {
     "data": {
      "text/html": [
       "<style>#sk-container-id-1 {\n",
       "  /* Definition of color scheme common for light and dark mode */\n",
       "  --sklearn-color-text: black;\n",
       "  --sklearn-color-line: gray;\n",
       "  /* Definition of color scheme for unfitted estimators */\n",
       "  --sklearn-color-unfitted-level-0: #fff5e6;\n",
       "  --sklearn-color-unfitted-level-1: #f6e4d2;\n",
       "  --sklearn-color-unfitted-level-2: #ffe0b3;\n",
       "  --sklearn-color-unfitted-level-3: chocolate;\n",
       "  /* Definition of color scheme for fitted estimators */\n",
       "  --sklearn-color-fitted-level-0: #f0f8ff;\n",
       "  --sklearn-color-fitted-level-1: #d4ebff;\n",
       "  --sklearn-color-fitted-level-2: #b3dbfd;\n",
       "  --sklearn-color-fitted-level-3: cornflowerblue;\n",
       "\n",
       "  /* Specific color for light theme */\n",
       "  --sklearn-color-text-on-default-background: var(--sg-text-color, var(--theme-code-foreground, var(--jp-content-font-color1, black)));\n",
       "  --sklearn-color-background: var(--sg-background-color, var(--theme-background, var(--jp-layout-color0, white)));\n",
       "  --sklearn-color-border-box: var(--sg-text-color, var(--theme-code-foreground, var(--jp-content-font-color1, black)));\n",
       "  --sklearn-color-icon: #696969;\n",
       "\n",
       "  @media (prefers-color-scheme: dark) {\n",
       "    /* Redefinition of color scheme for dark theme */\n",
       "    --sklearn-color-text-on-default-background: var(--sg-text-color, var(--theme-code-foreground, var(--jp-content-font-color1, white)));\n",
       "    --sklearn-color-background: var(--sg-background-color, var(--theme-background, var(--jp-layout-color0, #111)));\n",
       "    --sklearn-color-border-box: var(--sg-text-color, var(--theme-code-foreground, var(--jp-content-font-color1, white)));\n",
       "    --sklearn-color-icon: #878787;\n",
       "  }\n",
       "}\n",
       "\n",
       "#sk-container-id-1 {\n",
       "  color: var(--sklearn-color-text);\n",
       "}\n",
       "\n",
       "#sk-container-id-1 pre {\n",
       "  padding: 0;\n",
       "}\n",
       "\n",
       "#sk-container-id-1 input.sk-hidden--visually {\n",
       "  border: 0;\n",
       "  clip: rect(1px 1px 1px 1px);\n",
       "  clip: rect(1px, 1px, 1px, 1px);\n",
       "  height: 1px;\n",
       "  margin: -1px;\n",
       "  overflow: hidden;\n",
       "  padding: 0;\n",
       "  position: absolute;\n",
       "  width: 1px;\n",
       "}\n",
       "\n",
       "#sk-container-id-1 div.sk-dashed-wrapped {\n",
       "  border: 1px dashed var(--sklearn-color-line);\n",
       "  margin: 0 0.4em 0.5em 0.4em;\n",
       "  box-sizing: border-box;\n",
       "  padding-bottom: 0.4em;\n",
       "  background-color: var(--sklearn-color-background);\n",
       "}\n",
       "\n",
       "#sk-container-id-1 div.sk-container {\n",
       "  /* jupyter's `normalize.less` sets `[hidden] { display: none; }`\n",
       "     but bootstrap.min.css set `[hidden] { display: none !important; }`\n",
       "     so we also need the `!important` here to be able to override the\n",
       "     default hidden behavior on the sphinx rendered scikit-learn.org.\n",
       "     See: https://github.com/scikit-learn/scikit-learn/issues/21755 */\n",
       "  display: inline-block !important;\n",
       "  position: relative;\n",
       "}\n",
       "\n",
       "#sk-container-id-1 div.sk-text-repr-fallback {\n",
       "  display: none;\n",
       "}\n",
       "\n",
       "div.sk-parallel-item,\n",
       "div.sk-serial,\n",
       "div.sk-item {\n",
       "  /* draw centered vertical line to link estimators */\n",
       "  background-image: linear-gradient(var(--sklearn-color-text-on-default-background), var(--sklearn-color-text-on-default-background));\n",
       "  background-size: 2px 100%;\n",
       "  background-repeat: no-repeat;\n",
       "  background-position: center center;\n",
       "}\n",
       "\n",
       "/* Parallel-specific style estimator block */\n",
       "\n",
       "#sk-container-id-1 div.sk-parallel-item::after {\n",
       "  content: \"\";\n",
       "  width: 100%;\n",
       "  border-bottom: 2px solid var(--sklearn-color-text-on-default-background);\n",
       "  flex-grow: 1;\n",
       "}\n",
       "\n",
       "#sk-container-id-1 div.sk-parallel {\n",
       "  display: flex;\n",
       "  align-items: stretch;\n",
       "  justify-content: center;\n",
       "  background-color: var(--sklearn-color-background);\n",
       "  position: relative;\n",
       "}\n",
       "\n",
       "#sk-container-id-1 div.sk-parallel-item {\n",
       "  display: flex;\n",
       "  flex-direction: column;\n",
       "}\n",
       "\n",
       "#sk-container-id-1 div.sk-parallel-item:first-child::after {\n",
       "  align-self: flex-end;\n",
       "  width: 50%;\n",
       "}\n",
       "\n",
       "#sk-container-id-1 div.sk-parallel-item:last-child::after {\n",
       "  align-self: flex-start;\n",
       "  width: 50%;\n",
       "}\n",
       "\n",
       "#sk-container-id-1 div.sk-parallel-item:only-child::after {\n",
       "  width: 0;\n",
       "}\n",
       "\n",
       "/* Serial-specific style estimator block */\n",
       "\n",
       "#sk-container-id-1 div.sk-serial {\n",
       "  display: flex;\n",
       "  flex-direction: column;\n",
       "  align-items: center;\n",
       "  background-color: var(--sklearn-color-background);\n",
       "  padding-right: 1em;\n",
       "  padding-left: 1em;\n",
       "}\n",
       "\n",
       "\n",
       "/* Toggleable style: style used for estimator/Pipeline/ColumnTransformer box that is\n",
       "clickable and can be expanded/collapsed.\n",
       "- Pipeline and ColumnTransformer use this feature and define the default style\n",
       "- Estimators will overwrite some part of the style using the `sk-estimator` class\n",
       "*/\n",
       "\n",
       "/* Pipeline and ColumnTransformer style (default) */\n",
       "\n",
       "#sk-container-id-1 div.sk-toggleable {\n",
       "  /* Default theme specific background. It is overwritten whether we have a\n",
       "  specific estimator or a Pipeline/ColumnTransformer */\n",
       "  background-color: var(--sklearn-color-background);\n",
       "}\n",
       "\n",
       "/* Toggleable label */\n",
       "#sk-container-id-1 label.sk-toggleable__label {\n",
       "  cursor: pointer;\n",
       "  display: block;\n",
       "  width: 100%;\n",
       "  margin-bottom: 0;\n",
       "  padding: 0.5em;\n",
       "  box-sizing: border-box;\n",
       "  text-align: center;\n",
       "}\n",
       "\n",
       "#sk-container-id-1 label.sk-toggleable__label-arrow:before {\n",
       "  /* Arrow on the left of the label */\n",
       "  content: \"▸\";\n",
       "  float: left;\n",
       "  margin-right: 0.25em;\n",
       "  color: var(--sklearn-color-icon);\n",
       "}\n",
       "\n",
       "#sk-container-id-1 label.sk-toggleable__label-arrow:hover:before {\n",
       "  color: var(--sklearn-color-text);\n",
       "}\n",
       "\n",
       "/* Toggleable content - dropdown */\n",
       "\n",
       "#sk-container-id-1 div.sk-toggleable__content {\n",
       "  max-height: 0;\n",
       "  max-width: 0;\n",
       "  overflow: hidden;\n",
       "  text-align: left;\n",
       "  /* unfitted */\n",
       "  background-color: var(--sklearn-color-unfitted-level-0);\n",
       "}\n",
       "\n",
       "#sk-container-id-1 div.sk-toggleable__content.fitted {\n",
       "  /* fitted */\n",
       "  background-color: var(--sklearn-color-fitted-level-0);\n",
       "}\n",
       "\n",
       "#sk-container-id-1 div.sk-toggleable__content pre {\n",
       "  margin: 0.2em;\n",
       "  border-radius: 0.25em;\n",
       "  color: var(--sklearn-color-text);\n",
       "  /* unfitted */\n",
       "  background-color: var(--sklearn-color-unfitted-level-0);\n",
       "}\n",
       "\n",
       "#sk-container-id-1 div.sk-toggleable__content.fitted pre {\n",
       "  /* unfitted */\n",
       "  background-color: var(--sklearn-color-fitted-level-0);\n",
       "}\n",
       "\n",
       "#sk-container-id-1 input.sk-toggleable__control:checked~div.sk-toggleable__content {\n",
       "  /* Expand drop-down */\n",
       "  max-height: 200px;\n",
       "  max-width: 100%;\n",
       "  overflow: auto;\n",
       "}\n",
       "\n",
       "#sk-container-id-1 input.sk-toggleable__control:checked~label.sk-toggleable__label-arrow:before {\n",
       "  content: \"▾\";\n",
       "}\n",
       "\n",
       "/* Pipeline/ColumnTransformer-specific style */\n",
       "\n",
       "#sk-container-id-1 div.sk-label input.sk-toggleable__control:checked~label.sk-toggleable__label {\n",
       "  color: var(--sklearn-color-text);\n",
       "  background-color: var(--sklearn-color-unfitted-level-2);\n",
       "}\n",
       "\n",
       "#sk-container-id-1 div.sk-label.fitted input.sk-toggleable__control:checked~label.sk-toggleable__label {\n",
       "  background-color: var(--sklearn-color-fitted-level-2);\n",
       "}\n",
       "\n",
       "/* Estimator-specific style */\n",
       "\n",
       "/* Colorize estimator box */\n",
       "#sk-container-id-1 div.sk-estimator input.sk-toggleable__control:checked~label.sk-toggleable__label {\n",
       "  /* unfitted */\n",
       "  background-color: var(--sklearn-color-unfitted-level-2);\n",
       "}\n",
       "\n",
       "#sk-container-id-1 div.sk-estimator.fitted input.sk-toggleable__control:checked~label.sk-toggleable__label {\n",
       "  /* fitted */\n",
       "  background-color: var(--sklearn-color-fitted-level-2);\n",
       "}\n",
       "\n",
       "#sk-container-id-1 div.sk-label label.sk-toggleable__label,\n",
       "#sk-container-id-1 div.sk-label label {\n",
       "  /* The background is the default theme color */\n",
       "  color: var(--sklearn-color-text-on-default-background);\n",
       "}\n",
       "\n",
       "/* On hover, darken the color of the background */\n",
       "#sk-container-id-1 div.sk-label:hover label.sk-toggleable__label {\n",
       "  color: var(--sklearn-color-text);\n",
       "  background-color: var(--sklearn-color-unfitted-level-2);\n",
       "}\n",
       "\n",
       "/* Label box, darken color on hover, fitted */\n",
       "#sk-container-id-1 div.sk-label.fitted:hover label.sk-toggleable__label.fitted {\n",
       "  color: var(--sklearn-color-text);\n",
       "  background-color: var(--sklearn-color-fitted-level-2);\n",
       "}\n",
       "\n",
       "/* Estimator label */\n",
       "\n",
       "#sk-container-id-1 div.sk-label label {\n",
       "  font-family: monospace;\n",
       "  font-weight: bold;\n",
       "  display: inline-block;\n",
       "  line-height: 1.2em;\n",
       "}\n",
       "\n",
       "#sk-container-id-1 div.sk-label-container {\n",
       "  text-align: center;\n",
       "}\n",
       "\n",
       "/* Estimator-specific */\n",
       "#sk-container-id-1 div.sk-estimator {\n",
       "  font-family: monospace;\n",
       "  border: 1px dotted var(--sklearn-color-border-box);\n",
       "  border-radius: 0.25em;\n",
       "  box-sizing: border-box;\n",
       "  margin-bottom: 0.5em;\n",
       "  /* unfitted */\n",
       "  background-color: var(--sklearn-color-unfitted-level-0);\n",
       "}\n",
       "\n",
       "#sk-container-id-1 div.sk-estimator.fitted {\n",
       "  /* fitted */\n",
       "  background-color: var(--sklearn-color-fitted-level-0);\n",
       "}\n",
       "\n",
       "/* on hover */\n",
       "#sk-container-id-1 div.sk-estimator:hover {\n",
       "  /* unfitted */\n",
       "  background-color: var(--sklearn-color-unfitted-level-2);\n",
       "}\n",
       "\n",
       "#sk-container-id-1 div.sk-estimator.fitted:hover {\n",
       "  /* fitted */\n",
       "  background-color: var(--sklearn-color-fitted-level-2);\n",
       "}\n",
       "\n",
       "/* Specification for estimator info (e.g. \"i\" and \"?\") */\n",
       "\n",
       "/* Common style for \"i\" and \"?\" */\n",
       "\n",
       ".sk-estimator-doc-link,\n",
       "a:link.sk-estimator-doc-link,\n",
       "a:visited.sk-estimator-doc-link {\n",
       "  float: right;\n",
       "  font-size: smaller;\n",
       "  line-height: 1em;\n",
       "  font-family: monospace;\n",
       "  background-color: var(--sklearn-color-background);\n",
       "  border-radius: 1em;\n",
       "  height: 1em;\n",
       "  width: 1em;\n",
       "  text-decoration: none !important;\n",
       "  margin-left: 1ex;\n",
       "  /* unfitted */\n",
       "  border: var(--sklearn-color-unfitted-level-1) 1pt solid;\n",
       "  color: var(--sklearn-color-unfitted-level-1);\n",
       "}\n",
       "\n",
       ".sk-estimator-doc-link.fitted,\n",
       "a:link.sk-estimator-doc-link.fitted,\n",
       "a:visited.sk-estimator-doc-link.fitted {\n",
       "  /* fitted */\n",
       "  border: var(--sklearn-color-fitted-level-1) 1pt solid;\n",
       "  color: var(--sklearn-color-fitted-level-1);\n",
       "}\n",
       "\n",
       "/* On hover */\n",
       "div.sk-estimator:hover .sk-estimator-doc-link:hover,\n",
       ".sk-estimator-doc-link:hover,\n",
       "div.sk-label-container:hover .sk-estimator-doc-link:hover,\n",
       ".sk-estimator-doc-link:hover {\n",
       "  /* unfitted */\n",
       "  background-color: var(--sklearn-color-unfitted-level-3);\n",
       "  color: var(--sklearn-color-background);\n",
       "  text-decoration: none;\n",
       "}\n",
       "\n",
       "div.sk-estimator.fitted:hover .sk-estimator-doc-link.fitted:hover,\n",
       ".sk-estimator-doc-link.fitted:hover,\n",
       "div.sk-label-container:hover .sk-estimator-doc-link.fitted:hover,\n",
       ".sk-estimator-doc-link.fitted:hover {\n",
       "  /* fitted */\n",
       "  background-color: var(--sklearn-color-fitted-level-3);\n",
       "  color: var(--sklearn-color-background);\n",
       "  text-decoration: none;\n",
       "}\n",
       "\n",
       "/* Span, style for the box shown on hovering the info icon */\n",
       ".sk-estimator-doc-link span {\n",
       "  display: none;\n",
       "  z-index: 9999;\n",
       "  position: relative;\n",
       "  font-weight: normal;\n",
       "  right: .2ex;\n",
       "  padding: .5ex;\n",
       "  margin: .5ex;\n",
       "  width: min-content;\n",
       "  min-width: 20ex;\n",
       "  max-width: 50ex;\n",
       "  color: var(--sklearn-color-text);\n",
       "  box-shadow: 2pt 2pt 4pt #999;\n",
       "  /* unfitted */\n",
       "  background: var(--sklearn-color-unfitted-level-0);\n",
       "  border: .5pt solid var(--sklearn-color-unfitted-level-3);\n",
       "}\n",
       "\n",
       ".sk-estimator-doc-link.fitted span {\n",
       "  /* fitted */\n",
       "  background: var(--sklearn-color-fitted-level-0);\n",
       "  border: var(--sklearn-color-fitted-level-3);\n",
       "}\n",
       "\n",
       ".sk-estimator-doc-link:hover span {\n",
       "  display: block;\n",
       "}\n",
       "\n",
       "/* \"?\"-specific style due to the `<a>` HTML tag */\n",
       "\n",
       "#sk-container-id-1 a.estimator_doc_link {\n",
       "  float: right;\n",
       "  font-size: 1rem;\n",
       "  line-height: 1em;\n",
       "  font-family: monospace;\n",
       "  background-color: var(--sklearn-color-background);\n",
       "  border-radius: 1rem;\n",
       "  height: 1rem;\n",
       "  width: 1rem;\n",
       "  text-decoration: none;\n",
       "  /* unfitted */\n",
       "  color: var(--sklearn-color-unfitted-level-1);\n",
       "  border: var(--sklearn-color-unfitted-level-1) 1pt solid;\n",
       "}\n",
       "\n",
       "#sk-container-id-1 a.estimator_doc_link.fitted {\n",
       "  /* fitted */\n",
       "  border: var(--sklearn-color-fitted-level-1) 1pt solid;\n",
       "  color: var(--sklearn-color-fitted-level-1);\n",
       "}\n",
       "\n",
       "/* On hover */\n",
       "#sk-container-id-1 a.estimator_doc_link:hover {\n",
       "  /* unfitted */\n",
       "  background-color: var(--sklearn-color-unfitted-level-3);\n",
       "  color: var(--sklearn-color-background);\n",
       "  text-decoration: none;\n",
       "}\n",
       "\n",
       "#sk-container-id-1 a.estimator_doc_link.fitted:hover {\n",
       "  /* fitted */\n",
       "  background-color: var(--sklearn-color-fitted-level-3);\n",
       "}\n",
       "</style><div id=\"sk-container-id-1\" class=\"sk-top-container\"><div class=\"sk-text-repr-fallback\"><pre>ColumnTransformer(transformers=[(&#x27;num&#x27;,\n",
       "                                 Pipeline(steps=[(&#x27;scaler&#x27;, StandardScaler())]),\n",
       "                                 [&#x27;loannumber&#x27;, &#x27;loanamount&#x27;, &#x27;totaldue&#x27;,\n",
       "                                  &#x27;termdays&#x27;, &#x27;interest_amount&#x27;,\n",
       "                                  &#x27;interest_rate&#x27;, &#x27;repayment_ratio&#x27;,\n",
       "                                  &#x27;repayment_delay&#x27;, &#x27;prevloanamount&#x27;,\n",
       "                                  &#x27;customer_age&#x27;]),\n",
       "                                (&#x27;cat&#x27;,\n",
       "                                 Pipeline(steps=[(&#x27;encoder&#x27;,\n",
       "                                                  OneHotEncoder(drop=&#x27;first&#x27;,\n",
       "                                                                handle_unknown=&#x27;ignore&#x27;,\n",
       "                                                                sparse_output=False))]),\n",
       "                                 [&#x27;bank_account_type&#x27;, &#x27;bank_name_clients&#x27;,\n",
       "                                  &#x27;employment_status_clients&#x27;])])</pre><b>In a Jupyter environment, please rerun this cell to show the HTML representation or trust the notebook. <br />On GitHub, the HTML representation is unable to render, please try loading this page with nbviewer.org.</b></div><div class=\"sk-container\" hidden><div class=\"sk-item sk-dashed-wrapped\"><div class=\"sk-label-container\"><div class=\"sk-label  sk-toggleable\"><input class=\"sk-toggleable__control sk-hidden--visually\" id=\"sk-estimator-id-1\" type=\"checkbox\" ><label for=\"sk-estimator-id-1\" class=\"sk-toggleable__label  sk-toggleable__label-arrow \">&nbsp;&nbsp;ColumnTransformer<a class=\"sk-estimator-doc-link \" rel=\"noreferrer\" target=\"_blank\" href=\"https://scikit-learn.org/1.5/modules/generated/sklearn.compose.ColumnTransformer.html\">?<span>Documentation for ColumnTransformer</span></a><span class=\"sk-estimator-doc-link \">i<span>Not fitted</span></span></label><div class=\"sk-toggleable__content \"><pre>ColumnTransformer(transformers=[(&#x27;num&#x27;,\n",
       "                                 Pipeline(steps=[(&#x27;scaler&#x27;, StandardScaler())]),\n",
       "                                 [&#x27;loannumber&#x27;, &#x27;loanamount&#x27;, &#x27;totaldue&#x27;,\n",
       "                                  &#x27;termdays&#x27;, &#x27;interest_amount&#x27;,\n",
       "                                  &#x27;interest_rate&#x27;, &#x27;repayment_ratio&#x27;,\n",
       "                                  &#x27;repayment_delay&#x27;, &#x27;prevloanamount&#x27;,\n",
       "                                  &#x27;customer_age&#x27;]),\n",
       "                                (&#x27;cat&#x27;,\n",
       "                                 Pipeline(steps=[(&#x27;encoder&#x27;,\n",
       "                                                  OneHotEncoder(drop=&#x27;first&#x27;,\n",
       "                                                                handle_unknown=&#x27;ignore&#x27;,\n",
       "                                                                sparse_output=False))]),\n",
       "                                 [&#x27;bank_account_type&#x27;, &#x27;bank_name_clients&#x27;,\n",
       "                                  &#x27;employment_status_clients&#x27;])])</pre></div> </div></div><div class=\"sk-parallel\"><div class=\"sk-parallel-item\"><div class=\"sk-item\"><div class=\"sk-label-container\"><div class=\"sk-label  sk-toggleable\"><input class=\"sk-toggleable__control sk-hidden--visually\" id=\"sk-estimator-id-2\" type=\"checkbox\" ><label for=\"sk-estimator-id-2\" class=\"sk-toggleable__label  sk-toggleable__label-arrow \">num</label><div class=\"sk-toggleable__content \"><pre>[&#x27;loannumber&#x27;, &#x27;loanamount&#x27;, &#x27;totaldue&#x27;, &#x27;termdays&#x27;, &#x27;interest_amount&#x27;, &#x27;interest_rate&#x27;, &#x27;repayment_ratio&#x27;, &#x27;repayment_delay&#x27;, &#x27;prevloanamount&#x27;, &#x27;customer_age&#x27;]</pre></div> </div></div><div class=\"sk-serial\"><div class=\"sk-item\"><div class=\"sk-serial\"><div class=\"sk-item\"><div class=\"sk-estimator  sk-toggleable\"><input class=\"sk-toggleable__control sk-hidden--visually\" id=\"sk-estimator-id-3\" type=\"checkbox\" ><label for=\"sk-estimator-id-3\" class=\"sk-toggleable__label  sk-toggleable__label-arrow \">&nbsp;StandardScaler<a class=\"sk-estimator-doc-link \" rel=\"noreferrer\" target=\"_blank\" href=\"https://scikit-learn.org/1.5/modules/generated/sklearn.preprocessing.StandardScaler.html\">?<span>Documentation for StandardScaler</span></a></label><div class=\"sk-toggleable__content \"><pre>StandardScaler()</pre></div> </div></div></div></div></div></div></div><div class=\"sk-parallel-item\"><div class=\"sk-item\"><div class=\"sk-label-container\"><div class=\"sk-label  sk-toggleable\"><input class=\"sk-toggleable__control sk-hidden--visually\" id=\"sk-estimator-id-4\" type=\"checkbox\" ><label for=\"sk-estimator-id-4\" class=\"sk-toggleable__label  sk-toggleable__label-arrow \">cat</label><div class=\"sk-toggleable__content \"><pre>[&#x27;bank_account_type&#x27;, &#x27;bank_name_clients&#x27;, &#x27;employment_status_clients&#x27;]</pre></div> </div></div><div class=\"sk-serial\"><div class=\"sk-item\"><div class=\"sk-serial\"><div class=\"sk-item\"><div class=\"sk-estimator  sk-toggleable\"><input class=\"sk-toggleable__control sk-hidden--visually\" id=\"sk-estimator-id-5\" type=\"checkbox\" ><label for=\"sk-estimator-id-5\" class=\"sk-toggleable__label  sk-toggleable__label-arrow \">&nbsp;OneHotEncoder<a class=\"sk-estimator-doc-link \" rel=\"noreferrer\" target=\"_blank\" href=\"https://scikit-learn.org/1.5/modules/generated/sklearn.preprocessing.OneHotEncoder.html\">?<span>Documentation for OneHotEncoder</span></a></label><div class=\"sk-toggleable__content \"><pre>OneHotEncoder(drop=&#x27;first&#x27;, handle_unknown=&#x27;ignore&#x27;, sparse_output=False)</pre></div> </div></div></div></div></div></div></div></div></div></div></div>"
      ],
      "text/plain": [
       "ColumnTransformer(transformers=[('num',\n",
       "                                 Pipeline(steps=[('scaler', StandardScaler())]),\n",
       "                                 ['loannumber', 'loanamount', 'totaldue',\n",
       "                                  'termdays', 'interest_amount',\n",
       "                                  'interest_rate', 'repayment_ratio',\n",
       "                                  'repayment_delay', 'prevloanamount',\n",
       "                                  'customer_age']),\n",
       "                                ('cat',\n",
       "                                 Pipeline(steps=[('encoder',\n",
       "                                                  OneHotEncoder(drop='first',\n",
       "                                                                handle_unknown='ignore',\n",
       "                                                                sparse_output=False))]),\n",
       "                                 ['bank_account_type', 'bank_name_clients',\n",
       "                                  'employment_status_clients'])])"
      ]
     },
     "execution_count": 116,
     "metadata": {},
     "output_type": "execute_result"
    }
   ],
   "source": [
    "preprocessors "
   ]
  },
  {
   "cell_type": "markdown",
   "id": "518b8c2e-79f3-41d6-9d83-561c04cd720b",
   "metadata": {},
   "source": [
    "Defining our models "
   ]
  },
  {
   "cell_type": "code",
   "execution_count": 118,
   "id": "cb54087c-2cc9-42d1-a9fb-d3dc56145112",
   "metadata": {},
   "outputs": [],
   "source": [
    "# Defining multiple classification models with fixed random states \n",
    "# for consistent training and comparison across algorithm"
   ]
  },
  {
   "cell_type": "code",
   "execution_count": 119,
   "id": "13627bef-97fa-49c1-bf67-b1d7bc2d0ff7",
   "metadata": {},
   "outputs": [],
   "source": [
    "models = {\n",
    "    'Logistic Regression': LogisticRegression(random_state=40, max_iter=1000),\n",
    "    'Decision Tree': DecisionTreeClassifier(random_state=40),\n",
    "    'Random Forest': RandomForestClassifier(random_state=40),\n",
    "    'Gradient Boost': GradientBoostingClassifier(random_state=40),\n",
    "}  "
   ]
  },
  {
   "cell_type": "code",
   "execution_count": 120,
   "id": "71681279-86b9-4aa3-abbe-c4b673f8b715",
   "metadata": {},
   "outputs": [],
   "source": [
    "results = {} \n",
    "for name, model in models.items():\n",
    "    pipeline = Pipeline (steps= [ \n",
    "    ('preprocessors', preprocessors),\n",
    "        ('model', model) \n",
    "    ]) \n",
    "    pipeline.fit(x_train, y_train) \n",
    "    \n",
    "    y_train_predict = pipeline.predict(x_train)\n",
    "    y_test_predict = pipeline.predict(x_test) \n",
    "\n",
    "    # metrics\n",
    "    train_accuracy = accuracy_score(y_train, y_train_predict)\n",
    "    test_accuracy = accuracy_score(y_test, y_test_predict)\n",
    "    train_score = f1_score(y_train, y_train_predict)\n",
    "    test_score = f1_score(y_test, y_test_predict)\n",
    "    test_precision = precision_score(y_test, y_test_predict)\n",
    "    test_recall = recall_score(y_test, y_test_predict)\n",
    "    \n",
    "    results[name] = { \n",
    "        'train_accuracy': train_accuracy,\n",
    "        'test_accuracy': test_accuracy,\n",
    "        'train_score': train_score,\n",
    "        'test_score': test_score,\n",
    "        'test_precision': test_precision,\n",
    "        'test_recall': test_recall\n",
    "}      "
   ]
  },
  {
   "cell_type": "code",
   "execution_count": 121,
   "id": "b0b72b94-12f1-4de0-ade9-e955d784a788",
   "metadata": {},
   "outputs": [
    {
     "data": {
      "text/html": [
       "<div>\n",
       "<style scoped>\n",
       "    .dataframe tbody tr th:only-of-type {\n",
       "        vertical-align: middle;\n",
       "    }\n",
       "\n",
       "    .dataframe tbody tr th {\n",
       "        vertical-align: top;\n",
       "    }\n",
       "\n",
       "    .dataframe thead th {\n",
       "        text-align: right;\n",
       "    }\n",
       "</style>\n",
       "<table border=\"1\" class=\"dataframe\">\n",
       "  <thead>\n",
       "    <tr style=\"text-align: right;\">\n",
       "      <th></th>\n",
       "      <th>Logistic Regression</th>\n",
       "      <th>Decision Tree</th>\n",
       "      <th>Random Forest</th>\n",
       "      <th>Gradient Boost</th>\n",
       "    </tr>\n",
       "  </thead>\n",
       "  <tbody>\n",
       "    <tr>\n",
       "      <th>train_accuracy</th>\n",
       "      <td>0.786289</td>\n",
       "      <td>0.995021</td>\n",
       "      <td>0.995021</td>\n",
       "      <td>0.825354</td>\n",
       "    </tr>\n",
       "    <tr>\n",
       "      <th>test_accuracy</th>\n",
       "      <td>0.784074</td>\n",
       "      <td>0.699847</td>\n",
       "      <td>0.773354</td>\n",
       "      <td>0.799387</td>\n",
       "    </tr>\n",
       "    <tr>\n",
       "      <th>train_score</th>\n",
       "      <td>0.879168</td>\n",
       "      <td>0.996811</td>\n",
       "      <td>0.996819</td>\n",
       "      <td>0.897574</td>\n",
       "    </tr>\n",
       "    <tr>\n",
       "      <th>test_score</th>\n",
       "      <td>0.877922</td>\n",
       "      <td>0.805941</td>\n",
       "      <td>0.865209</td>\n",
       "      <td>0.882511</td>\n",
       "    </tr>\n",
       "    <tr>\n",
       "      <th>test_precision</th>\n",
       "      <td>0.787267</td>\n",
       "      <td>0.815631</td>\n",
       "      <td>0.809199</td>\n",
       "      <td>0.814570</td>\n",
       "    </tr>\n",
       "    <tr>\n",
       "      <th>test_recall</th>\n",
       "      <td>0.992172</td>\n",
       "      <td>0.796477</td>\n",
       "      <td>0.929550</td>\n",
       "      <td>0.962818</td>\n",
       "    </tr>\n",
       "  </tbody>\n",
       "</table>\n",
       "</div>"
      ],
      "text/plain": [
       "                Logistic Regression  Decision Tree  Random Forest  \\\n",
       "train_accuracy             0.786289       0.995021       0.995021   \n",
       "test_accuracy              0.784074       0.699847       0.773354   \n",
       "train_score                0.879168       0.996811       0.996819   \n",
       "test_score                 0.877922       0.805941       0.865209   \n",
       "test_precision             0.787267       0.815631       0.809199   \n",
       "test_recall                0.992172       0.796477       0.929550   \n",
       "\n",
       "                Gradient Boost  \n",
       "train_accuracy        0.825354  \n",
       "test_accuracy         0.799387  \n",
       "train_score           0.897574  \n",
       "test_score            0.882511  \n",
       "test_precision        0.814570  \n",
       "test_recall           0.962818  "
      ]
     },
     "execution_count": 121,
     "metadata": {},
     "output_type": "execute_result"
    }
   ],
   "source": [
    "results = pd.DataFrame(results)\n",
    "results "
   ]
  },
  {
   "cell_type": "code",
   "execution_count": null,
   "id": "93773b6d-1241-4b78-9a95-28b22a8b086a",
   "metadata": {},
   "outputs": [],
   "source": []
  }
 ],
 "metadata": {
  "kernelspec": {
   "display_name": "Python [conda env:ANACONDA]",
   "language": "python",
   "name": "conda-env-ANACONDA-py"
  },
  "language_info": {
   "codemirror_mode": {
    "name": "ipython",
    "version": 3
   },
   "file_extension": ".py",
   "mimetype": "text/x-python",
   "name": "python",
   "nbconvert_exporter": "python",
   "pygments_lexer": "ipython3",
   "version": "3.12.7"
  }
 },
 "nbformat": 4,
 "nbformat_minor": 5
}
